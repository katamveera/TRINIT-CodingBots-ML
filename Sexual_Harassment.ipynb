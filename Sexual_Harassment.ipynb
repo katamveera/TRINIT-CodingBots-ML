{
  "nbformat": 4,
  "nbformat_minor": 0,
  "metadata": {
    "colab": {
      "provenance": [],
      "authorship_tag": "ABX9TyNMxQ8iDLomwQSPywETqIy5",
      "include_colab_link": true
    },
    "kernelspec": {
      "name": "python3",
      "display_name": "Python 3"
    },
    "language_info": {
      "name": "python"
    },
    "widgets": {
      "application/vnd.jupyter.widget-state+json": {
        "3e5c040c35af4f178a53d12bcec6d4db": {
          "model_module": "@jupyter-widgets/controls",
          "model_name": "HBoxModel",
          "model_module_version": "1.5.0",
          "state": {
            "_dom_classes": [],
            "_model_module": "@jupyter-widgets/controls",
            "_model_module_version": "1.5.0",
            "_model_name": "HBoxModel",
            "_view_count": null,
            "_view_module": "@jupyter-widgets/controls",
            "_view_module_version": "1.5.0",
            "_view_name": "HBoxView",
            "box_style": "",
            "children": [
              "IPY_MODEL_be12a3ff154e4415b528d32f11d92568",
              "IPY_MODEL_863052c7371d4270911416727ddc7273",
              "IPY_MODEL_06233b0176454425bb68e66772a549cb"
            ],
            "layout": "IPY_MODEL_c3a0e49a7da741ad9fda9eaf7398d450"
          }
        },
        "be12a3ff154e4415b528d32f11d92568": {
          "model_module": "@jupyter-widgets/controls",
          "model_name": "HTMLModel",
          "model_module_version": "1.5.0",
          "state": {
            "_dom_classes": [],
            "_model_module": "@jupyter-widgets/controls",
            "_model_module_version": "1.5.0",
            "_model_name": "HTMLModel",
            "_view_count": null,
            "_view_module": "@jupyter-widgets/controls",
            "_view_module_version": "1.5.0",
            "_view_name": "HTMLView",
            "description": "",
            "description_tooltip": null,
            "layout": "IPY_MODEL_61167cc3d2454bb3bdd55c9fb40be325",
            "placeholder": "​",
            "style": "IPY_MODEL_38eeefe307a04e448a2c3f6687f7f7b5",
            "value": "100%"
          }
        },
        "863052c7371d4270911416727ddc7273": {
          "model_module": "@jupyter-widgets/controls",
          "model_name": "FloatProgressModel",
          "model_module_version": "1.5.0",
          "state": {
            "_dom_classes": [],
            "_model_module": "@jupyter-widgets/controls",
            "_model_module_version": "1.5.0",
            "_model_name": "FloatProgressModel",
            "_view_count": null,
            "_view_module": "@jupyter-widgets/controls",
            "_view_module_version": "1.5.0",
            "_view_name": "ProgressView",
            "bar_style": "success",
            "description": "",
            "description_tooltip": null,
            "layout": "IPY_MODEL_ef5355f8dd3d4494a8d76202b9daae32",
            "max": 341,
            "min": 0,
            "orientation": "horizontal",
            "style": "IPY_MODEL_f7f0f5cb20094cfd9ed3392751e04395",
            "value": 341
          }
        },
        "06233b0176454425bb68e66772a549cb": {
          "model_module": "@jupyter-widgets/controls",
          "model_name": "HTMLModel",
          "model_module_version": "1.5.0",
          "state": {
            "_dom_classes": [],
            "_model_module": "@jupyter-widgets/controls",
            "_model_module_version": "1.5.0",
            "_model_name": "HTMLModel",
            "_view_count": null,
            "_view_module": "@jupyter-widgets/controls",
            "_view_module_version": "1.5.0",
            "_view_name": "HTMLView",
            "description": "",
            "description_tooltip": null,
            "layout": "IPY_MODEL_4e3e4bf18858437fa6ba267ad1998cbc",
            "placeholder": "​",
            "style": "IPY_MODEL_e3309f8a7fc64d349d82eea328686296",
            "value": " 341/341 [02:20&lt;00:00,  2.25it/s]"
          }
        },
        "c3a0e49a7da741ad9fda9eaf7398d450": {
          "model_module": "@jupyter-widgets/base",
          "model_name": "LayoutModel",
          "model_module_version": "1.2.0",
          "state": {
            "_model_module": "@jupyter-widgets/base",
            "_model_module_version": "1.2.0",
            "_model_name": "LayoutModel",
            "_view_count": null,
            "_view_module": "@jupyter-widgets/base",
            "_view_module_version": "1.2.0",
            "_view_name": "LayoutView",
            "align_content": null,
            "align_items": null,
            "align_self": null,
            "border": null,
            "bottom": null,
            "display": null,
            "flex": null,
            "flex_flow": null,
            "grid_area": null,
            "grid_auto_columns": null,
            "grid_auto_flow": null,
            "grid_auto_rows": null,
            "grid_column": null,
            "grid_gap": null,
            "grid_row": null,
            "grid_template_areas": null,
            "grid_template_columns": null,
            "grid_template_rows": null,
            "height": null,
            "justify_content": null,
            "justify_items": null,
            "left": null,
            "margin": null,
            "max_height": null,
            "max_width": null,
            "min_height": null,
            "min_width": null,
            "object_fit": null,
            "object_position": null,
            "order": null,
            "overflow": null,
            "overflow_x": null,
            "overflow_y": null,
            "padding": null,
            "right": null,
            "top": null,
            "visibility": null,
            "width": null
          }
        },
        "61167cc3d2454bb3bdd55c9fb40be325": {
          "model_module": "@jupyter-widgets/base",
          "model_name": "LayoutModel",
          "model_module_version": "1.2.0",
          "state": {
            "_model_module": "@jupyter-widgets/base",
            "_model_module_version": "1.2.0",
            "_model_name": "LayoutModel",
            "_view_count": null,
            "_view_module": "@jupyter-widgets/base",
            "_view_module_version": "1.2.0",
            "_view_name": "LayoutView",
            "align_content": null,
            "align_items": null,
            "align_self": null,
            "border": null,
            "bottom": null,
            "display": null,
            "flex": null,
            "flex_flow": null,
            "grid_area": null,
            "grid_auto_columns": null,
            "grid_auto_flow": null,
            "grid_auto_rows": null,
            "grid_column": null,
            "grid_gap": null,
            "grid_row": null,
            "grid_template_areas": null,
            "grid_template_columns": null,
            "grid_template_rows": null,
            "height": null,
            "justify_content": null,
            "justify_items": null,
            "left": null,
            "margin": null,
            "max_height": null,
            "max_width": null,
            "min_height": null,
            "min_width": null,
            "object_fit": null,
            "object_position": null,
            "order": null,
            "overflow": null,
            "overflow_x": null,
            "overflow_y": null,
            "padding": null,
            "right": null,
            "top": null,
            "visibility": null,
            "width": null
          }
        },
        "38eeefe307a04e448a2c3f6687f7f7b5": {
          "model_module": "@jupyter-widgets/controls",
          "model_name": "DescriptionStyleModel",
          "model_module_version": "1.5.0",
          "state": {
            "_model_module": "@jupyter-widgets/controls",
            "_model_module_version": "1.5.0",
            "_model_name": "DescriptionStyleModel",
            "_view_count": null,
            "_view_module": "@jupyter-widgets/base",
            "_view_module_version": "1.2.0",
            "_view_name": "StyleView",
            "description_width": ""
          }
        },
        "ef5355f8dd3d4494a8d76202b9daae32": {
          "model_module": "@jupyter-widgets/base",
          "model_name": "LayoutModel",
          "model_module_version": "1.2.0",
          "state": {
            "_model_module": "@jupyter-widgets/base",
            "_model_module_version": "1.2.0",
            "_model_name": "LayoutModel",
            "_view_count": null,
            "_view_module": "@jupyter-widgets/base",
            "_view_module_version": "1.2.0",
            "_view_name": "LayoutView",
            "align_content": null,
            "align_items": null,
            "align_self": null,
            "border": null,
            "bottom": null,
            "display": null,
            "flex": null,
            "flex_flow": null,
            "grid_area": null,
            "grid_auto_columns": null,
            "grid_auto_flow": null,
            "grid_auto_rows": null,
            "grid_column": null,
            "grid_gap": null,
            "grid_row": null,
            "grid_template_areas": null,
            "grid_template_columns": null,
            "grid_template_rows": null,
            "height": null,
            "justify_content": null,
            "justify_items": null,
            "left": null,
            "margin": null,
            "max_height": null,
            "max_width": null,
            "min_height": null,
            "min_width": null,
            "object_fit": null,
            "object_position": null,
            "order": null,
            "overflow": null,
            "overflow_x": null,
            "overflow_y": null,
            "padding": null,
            "right": null,
            "top": null,
            "visibility": null,
            "width": null
          }
        },
        "f7f0f5cb20094cfd9ed3392751e04395": {
          "model_module": "@jupyter-widgets/controls",
          "model_name": "ProgressStyleModel",
          "model_module_version": "1.5.0",
          "state": {
            "_model_module": "@jupyter-widgets/controls",
            "_model_module_version": "1.5.0",
            "_model_name": "ProgressStyleModel",
            "_view_count": null,
            "_view_module": "@jupyter-widgets/base",
            "_view_module_version": "1.2.0",
            "_view_name": "StyleView",
            "bar_color": null,
            "description_width": ""
          }
        },
        "4e3e4bf18858437fa6ba267ad1998cbc": {
          "model_module": "@jupyter-widgets/base",
          "model_name": "LayoutModel",
          "model_module_version": "1.2.0",
          "state": {
            "_model_module": "@jupyter-widgets/base",
            "_model_module_version": "1.2.0",
            "_model_name": "LayoutModel",
            "_view_count": null,
            "_view_module": "@jupyter-widgets/base",
            "_view_module_version": "1.2.0",
            "_view_name": "LayoutView",
            "align_content": null,
            "align_items": null,
            "align_self": null,
            "border": null,
            "bottom": null,
            "display": null,
            "flex": null,
            "flex_flow": null,
            "grid_area": null,
            "grid_auto_columns": null,
            "grid_auto_flow": null,
            "grid_auto_rows": null,
            "grid_column": null,
            "grid_gap": null,
            "grid_row": null,
            "grid_template_areas": null,
            "grid_template_columns": null,
            "grid_template_rows": null,
            "height": null,
            "justify_content": null,
            "justify_items": null,
            "left": null,
            "margin": null,
            "max_height": null,
            "max_width": null,
            "min_height": null,
            "min_width": null,
            "object_fit": null,
            "object_position": null,
            "order": null,
            "overflow": null,
            "overflow_x": null,
            "overflow_y": null,
            "padding": null,
            "right": null,
            "top": null,
            "visibility": null,
            "width": null
          }
        },
        "e3309f8a7fc64d349d82eea328686296": {
          "model_module": "@jupyter-widgets/controls",
          "model_name": "DescriptionStyleModel",
          "model_module_version": "1.5.0",
          "state": {
            "_model_module": "@jupyter-widgets/controls",
            "_model_module_version": "1.5.0",
            "_model_name": "DescriptionStyleModel",
            "_view_count": null,
            "_view_module": "@jupyter-widgets/base",
            "_view_module_version": "1.2.0",
            "_view_name": "StyleView",
            "description_width": ""
          }
        },
        "b7ff7d2744854ac3a9dee54ecc7860ca": {
          "model_module": "@jupyter-widgets/controls",
          "model_name": "HBoxModel",
          "model_module_version": "1.5.0",
          "state": {
            "_dom_classes": [],
            "_model_module": "@jupyter-widgets/controls",
            "_model_module_version": "1.5.0",
            "_model_name": "HBoxModel",
            "_view_count": null,
            "_view_module": "@jupyter-widgets/controls",
            "_view_module_version": "1.5.0",
            "_view_name": "HBoxView",
            "box_style": "",
            "children": [
              "IPY_MODEL_4c6821a6d6ad44d980134e821f0ce8f3",
              "IPY_MODEL_ed8a8ca6e0e24cce91979536eb748fa0",
              "IPY_MODEL_9ab82150dc74420d8bad4a69a4356b25"
            ],
            "layout": "IPY_MODEL_c3a4a621971740ed99a1fad09aaa52fc"
          }
        },
        "4c6821a6d6ad44d980134e821f0ce8f3": {
          "model_module": "@jupyter-widgets/controls",
          "model_name": "HTMLModel",
          "model_module_version": "1.5.0",
          "state": {
            "_dom_classes": [],
            "_model_module": "@jupyter-widgets/controls",
            "_model_module_version": "1.5.0",
            "_model_name": "HTMLModel",
            "_view_count": null,
            "_view_module": "@jupyter-widgets/controls",
            "_view_module_version": "1.5.0",
            "_view_name": "HTMLView",
            "description": "",
            "description_tooltip": null,
            "layout": "IPY_MODEL_28b8c55389b546b6a612922b2637deb6",
            "placeholder": "​",
            "style": "IPY_MODEL_b52ec66d97f947e293d4a16d0e7c829f",
            "value": "100%"
          }
        },
        "ed8a8ca6e0e24cce91979536eb748fa0": {
          "model_module": "@jupyter-widgets/controls",
          "model_name": "FloatProgressModel",
          "model_module_version": "1.5.0",
          "state": {
            "_dom_classes": [],
            "_model_module": "@jupyter-widgets/controls",
            "_model_module_version": "1.5.0",
            "_model_name": "FloatProgressModel",
            "_view_count": null,
            "_view_module": "@jupyter-widgets/controls",
            "_view_module_version": "1.5.0",
            "_view_name": "ProgressView",
            "bar_style": "success",
            "description": "",
            "description_tooltip": null,
            "layout": "IPY_MODEL_4d7d06120f494137b1adfc759b733d7a",
            "max": 341,
            "min": 0,
            "orientation": "horizontal",
            "style": "IPY_MODEL_db358cdcc028423eb5d223aad97b19ab",
            "value": 341
          }
        },
        "9ab82150dc74420d8bad4a69a4356b25": {
          "model_module": "@jupyter-widgets/controls",
          "model_name": "HTMLModel",
          "model_module_version": "1.5.0",
          "state": {
            "_dom_classes": [],
            "_model_module": "@jupyter-widgets/controls",
            "_model_module_version": "1.5.0",
            "_model_name": "HTMLModel",
            "_view_count": null,
            "_view_module": "@jupyter-widgets/controls",
            "_view_module_version": "1.5.0",
            "_view_name": "HTMLView",
            "description": "",
            "description_tooltip": null,
            "layout": "IPY_MODEL_97e8a88c071d4974a279882ce64e7c04",
            "placeholder": "​",
            "style": "IPY_MODEL_82b5d478d3a74ccb89085b68b426ca1a",
            "value": " 341/341 [02:09&lt;00:00,  2.31it/s]"
          }
        },
        "c3a4a621971740ed99a1fad09aaa52fc": {
          "model_module": "@jupyter-widgets/base",
          "model_name": "LayoutModel",
          "model_module_version": "1.2.0",
          "state": {
            "_model_module": "@jupyter-widgets/base",
            "_model_module_version": "1.2.0",
            "_model_name": "LayoutModel",
            "_view_count": null,
            "_view_module": "@jupyter-widgets/base",
            "_view_module_version": "1.2.0",
            "_view_name": "LayoutView",
            "align_content": null,
            "align_items": null,
            "align_self": null,
            "border": null,
            "bottom": null,
            "display": null,
            "flex": null,
            "flex_flow": null,
            "grid_area": null,
            "grid_auto_columns": null,
            "grid_auto_flow": null,
            "grid_auto_rows": null,
            "grid_column": null,
            "grid_gap": null,
            "grid_row": null,
            "grid_template_areas": null,
            "grid_template_columns": null,
            "grid_template_rows": null,
            "height": null,
            "justify_content": null,
            "justify_items": null,
            "left": null,
            "margin": null,
            "max_height": null,
            "max_width": null,
            "min_height": null,
            "min_width": null,
            "object_fit": null,
            "object_position": null,
            "order": null,
            "overflow": null,
            "overflow_x": null,
            "overflow_y": null,
            "padding": null,
            "right": null,
            "top": null,
            "visibility": null,
            "width": null
          }
        },
        "28b8c55389b546b6a612922b2637deb6": {
          "model_module": "@jupyter-widgets/base",
          "model_name": "LayoutModel",
          "model_module_version": "1.2.0",
          "state": {
            "_model_module": "@jupyter-widgets/base",
            "_model_module_version": "1.2.0",
            "_model_name": "LayoutModel",
            "_view_count": null,
            "_view_module": "@jupyter-widgets/base",
            "_view_module_version": "1.2.0",
            "_view_name": "LayoutView",
            "align_content": null,
            "align_items": null,
            "align_self": null,
            "border": null,
            "bottom": null,
            "display": null,
            "flex": null,
            "flex_flow": null,
            "grid_area": null,
            "grid_auto_columns": null,
            "grid_auto_flow": null,
            "grid_auto_rows": null,
            "grid_column": null,
            "grid_gap": null,
            "grid_row": null,
            "grid_template_areas": null,
            "grid_template_columns": null,
            "grid_template_rows": null,
            "height": null,
            "justify_content": null,
            "justify_items": null,
            "left": null,
            "margin": null,
            "max_height": null,
            "max_width": null,
            "min_height": null,
            "min_width": null,
            "object_fit": null,
            "object_position": null,
            "order": null,
            "overflow": null,
            "overflow_x": null,
            "overflow_y": null,
            "padding": null,
            "right": null,
            "top": null,
            "visibility": null,
            "width": null
          }
        },
        "b52ec66d97f947e293d4a16d0e7c829f": {
          "model_module": "@jupyter-widgets/controls",
          "model_name": "DescriptionStyleModel",
          "model_module_version": "1.5.0",
          "state": {
            "_model_module": "@jupyter-widgets/controls",
            "_model_module_version": "1.5.0",
            "_model_name": "DescriptionStyleModel",
            "_view_count": null,
            "_view_module": "@jupyter-widgets/base",
            "_view_module_version": "1.2.0",
            "_view_name": "StyleView",
            "description_width": ""
          }
        },
        "4d7d06120f494137b1adfc759b733d7a": {
          "model_module": "@jupyter-widgets/base",
          "model_name": "LayoutModel",
          "model_module_version": "1.2.0",
          "state": {
            "_model_module": "@jupyter-widgets/base",
            "_model_module_version": "1.2.0",
            "_model_name": "LayoutModel",
            "_view_count": null,
            "_view_module": "@jupyter-widgets/base",
            "_view_module_version": "1.2.0",
            "_view_name": "LayoutView",
            "align_content": null,
            "align_items": null,
            "align_self": null,
            "border": null,
            "bottom": null,
            "display": null,
            "flex": null,
            "flex_flow": null,
            "grid_area": null,
            "grid_auto_columns": null,
            "grid_auto_flow": null,
            "grid_auto_rows": null,
            "grid_column": null,
            "grid_gap": null,
            "grid_row": null,
            "grid_template_areas": null,
            "grid_template_columns": null,
            "grid_template_rows": null,
            "height": null,
            "justify_content": null,
            "justify_items": null,
            "left": null,
            "margin": null,
            "max_height": null,
            "max_width": null,
            "min_height": null,
            "min_width": null,
            "object_fit": null,
            "object_position": null,
            "order": null,
            "overflow": null,
            "overflow_x": null,
            "overflow_y": null,
            "padding": null,
            "right": null,
            "top": null,
            "visibility": null,
            "width": null
          }
        },
        "db358cdcc028423eb5d223aad97b19ab": {
          "model_module": "@jupyter-widgets/controls",
          "model_name": "ProgressStyleModel",
          "model_module_version": "1.5.0",
          "state": {
            "_model_module": "@jupyter-widgets/controls",
            "_model_module_version": "1.5.0",
            "_model_name": "ProgressStyleModel",
            "_view_count": null,
            "_view_module": "@jupyter-widgets/base",
            "_view_module_version": "1.2.0",
            "_view_name": "StyleView",
            "bar_color": null,
            "description_width": ""
          }
        },
        "97e8a88c071d4974a279882ce64e7c04": {
          "model_module": "@jupyter-widgets/base",
          "model_name": "LayoutModel",
          "model_module_version": "1.2.0",
          "state": {
            "_model_module": "@jupyter-widgets/base",
            "_model_module_version": "1.2.0",
            "_model_name": "LayoutModel",
            "_view_count": null,
            "_view_module": "@jupyter-widgets/base",
            "_view_module_version": "1.2.0",
            "_view_name": "LayoutView",
            "align_content": null,
            "align_items": null,
            "align_self": null,
            "border": null,
            "bottom": null,
            "display": null,
            "flex": null,
            "flex_flow": null,
            "grid_area": null,
            "grid_auto_columns": null,
            "grid_auto_flow": null,
            "grid_auto_rows": null,
            "grid_column": null,
            "grid_gap": null,
            "grid_row": null,
            "grid_template_areas": null,
            "grid_template_columns": null,
            "grid_template_rows": null,
            "height": null,
            "justify_content": null,
            "justify_items": null,
            "left": null,
            "margin": null,
            "max_height": null,
            "max_width": null,
            "min_height": null,
            "min_width": null,
            "object_fit": null,
            "object_position": null,
            "order": null,
            "overflow": null,
            "overflow_x": null,
            "overflow_y": null,
            "padding": null,
            "right": null,
            "top": null,
            "visibility": null,
            "width": null
          }
        },
        "82b5d478d3a74ccb89085b68b426ca1a": {
          "model_module": "@jupyter-widgets/controls",
          "model_name": "DescriptionStyleModel",
          "model_module_version": "1.5.0",
          "state": {
            "_model_module": "@jupyter-widgets/controls",
            "_model_module_version": "1.5.0",
            "_model_name": "DescriptionStyleModel",
            "_view_count": null,
            "_view_module": "@jupyter-widgets/base",
            "_view_module_version": "1.2.0",
            "_view_name": "StyleView",
            "description_width": ""
          }
        }
      }
    }
  },
  "cells": [
    {
      "cell_type": "markdown",
      "metadata": {
        "id": "view-in-github",
        "colab_type": "text"
      },
      "source": [
        "<a href=\"https://colab.research.google.com/github/katamveera/TRINIT-CodingBots-ML/blob/main/Sexual_Harassment.ipynb\" target=\"_parent\"><img src=\"https://colab.research.google.com/assets/colab-badge.svg\" alt=\"Open In Colab\"/></a>"
      ]
    },
    {
      "cell_type": "code",
      "execution_count": 3,
      "metadata": {
        "colab": {
          "base_uri": "https://localhost:8080/"
        },
        "id": "fx9r99bSoFUi",
        "outputId": "60573d31-bcc3-423a-dbcc-1333a8f3e5cc"
      },
      "outputs": [
        {
          "output_type": "stream",
          "name": "stdout",
          "text": [
            "Requirement already satisfied: shap in /usr/local/lib/python3.10/dist-packages (0.45.0)\n",
            "Requirement already satisfied: numpy in /usr/local/lib/python3.10/dist-packages (from shap) (1.25.2)\n",
            "Requirement already satisfied: scipy in /usr/local/lib/python3.10/dist-packages (from shap) (1.11.4)\n",
            "Requirement already satisfied: scikit-learn in /usr/local/lib/python3.10/dist-packages (from shap) (1.2.2)\n",
            "Requirement already satisfied: pandas in /usr/local/lib/python3.10/dist-packages (from shap) (1.5.3)\n",
            "Requirement already satisfied: tqdm>=4.27.0 in /usr/local/lib/python3.10/dist-packages (from shap) (4.66.2)\n",
            "Requirement already satisfied: packaging>20.9 in /usr/local/lib/python3.10/dist-packages (from shap) (23.2)\n",
            "Requirement already satisfied: slicer==0.0.7 in /usr/local/lib/python3.10/dist-packages (from shap) (0.0.7)\n",
            "Requirement already satisfied: numba in /usr/local/lib/python3.10/dist-packages (from shap) (0.58.1)\n",
            "Requirement already satisfied: cloudpickle in /usr/local/lib/python3.10/dist-packages (from shap) (2.2.1)\n",
            "Requirement already satisfied: llvmlite<0.42,>=0.41.0dev0 in /usr/local/lib/python3.10/dist-packages (from numba->shap) (0.41.1)\n",
            "Requirement already satisfied: python-dateutil>=2.8.1 in /usr/local/lib/python3.10/dist-packages (from pandas->shap) (2.8.2)\n",
            "Requirement already satisfied: pytz>=2020.1 in /usr/local/lib/python3.10/dist-packages (from pandas->shap) (2023.4)\n",
            "Requirement already satisfied: joblib>=1.1.1 in /usr/local/lib/python3.10/dist-packages (from scikit-learn->shap) (1.3.2)\n",
            "Requirement already satisfied: threadpoolctl>=2.0.0 in /usr/local/lib/python3.10/dist-packages (from scikit-learn->shap) (3.3.0)\n",
            "Requirement already satisfied: six>=1.5 in /usr/local/lib/python3.10/dist-packages (from python-dateutil>=2.8.1->pandas->shap) (1.16.0)\n"
          ]
        }
      ],
      "source": [
        "pip install shap"
      ]
    },
    {
      "cell_type": "markdown",
      "source": [
        "Import necessary libraries"
      ],
      "metadata": {
        "id": "yRPceIA2oRy8"
      }
    },
    {
      "cell_type": "code",
      "source": [
        "import pandas as pd\n",
        "from sklearn.model_selection import train_test_split\n",
        "from sklearn.feature_extraction.text import TfidfVectorizer\n",
        "from sklearn.svm import SVC\n",
        "import shap"
      ],
      "metadata": {
        "id": "6Um_DBzDoOYk"
      },
      "execution_count": 4,
      "outputs": []
    },
    {
      "cell_type": "markdown",
      "source": [
        "Load dataset"
      ],
      "metadata": {
        "id": "nnXFfEdioiJH"
      }
    },
    {
      "cell_type": "code",
      "source": [
        "dataset = pd.read_csv('/content/test.csv (1).zip')"
      ],
      "metadata": {
        "id": "mN-FIptYob7v"
      },
      "execution_count": 5,
      "outputs": []
    },
    {
      "cell_type": "markdown",
      "source": [
        "Data Preprocessing\n",
        "Tokenization, stop-word removal, vectorization"
      ],
      "metadata": {
        "id": "HmokOR4ponTr"
      }
    },
    {
      "cell_type": "code",
      "source": [
        "vectorizer = TfidfVectorizer(stop_words='english')\n",
        "X = vectorizer.fit_transform(dataset['Description'])\n",
        "y = dataset['Commenting']"
      ],
      "metadata": {
        "id": "at_5GU0Nomgl"
      },
      "execution_count": 6,
      "outputs": []
    },
    {
      "cell_type": "markdown",
      "source": [
        "Split data into training and testing sets"
      ],
      "metadata": {
        "id": "mDfiYKLDo7g7"
      }
    },
    {
      "cell_type": "code",
      "source": [
        "X_train, X_test, y_train, y_test = train_test_split(X, y, test_size=0.2, random_state=42)"
      ],
      "metadata": {
        "id": "I9biO7G-o6-1"
      },
      "execution_count": 7,
      "outputs": []
    },
    {
      "cell_type": "markdown",
      "source": [
        "Model Training\n",
        "Support Vector Machine (SVM) classifier"
      ],
      "metadata": {
        "id": "kvFonWsSpJ8X"
      }
    },
    {
      "cell_type": "code",
      "source": [
        "svm_classifier = SVC(kernel='linear')\n",
        "svm_classifier.fit(X_train, y_train)"
      ],
      "metadata": {
        "colab": {
          "base_uri": "https://localhost:8080/",
          "height": 75
        },
        "id": "SaSvMaJHpGcr",
        "outputId": "31f71e6f-d7aa-4a44-cac4-4fd01e21b1b4"
      },
      "execution_count": 8,
      "outputs": [
        {
          "output_type": "execute_result",
          "data": {
            "text/plain": [
              "SVC(kernel='linear')"
            ],
            "text/html": [
              "<style>#sk-container-id-1 {color: black;background-color: white;}#sk-container-id-1 pre{padding: 0;}#sk-container-id-1 div.sk-toggleable {background-color: white;}#sk-container-id-1 label.sk-toggleable__label {cursor: pointer;display: block;width: 100%;margin-bottom: 0;padding: 0.3em;box-sizing: border-box;text-align: center;}#sk-container-id-1 label.sk-toggleable__label-arrow:before {content: \"▸\";float: left;margin-right: 0.25em;color: #696969;}#sk-container-id-1 label.sk-toggleable__label-arrow:hover:before {color: black;}#sk-container-id-1 div.sk-estimator:hover label.sk-toggleable__label-arrow:before {color: black;}#sk-container-id-1 div.sk-toggleable__content {max-height: 0;max-width: 0;overflow: hidden;text-align: left;background-color: #f0f8ff;}#sk-container-id-1 div.sk-toggleable__content pre {margin: 0.2em;color: black;border-radius: 0.25em;background-color: #f0f8ff;}#sk-container-id-1 input.sk-toggleable__control:checked~div.sk-toggleable__content {max-height: 200px;max-width: 100%;overflow: auto;}#sk-container-id-1 input.sk-toggleable__control:checked~label.sk-toggleable__label-arrow:before {content: \"▾\";}#sk-container-id-1 div.sk-estimator input.sk-toggleable__control:checked~label.sk-toggleable__label {background-color: #d4ebff;}#sk-container-id-1 div.sk-label input.sk-toggleable__control:checked~label.sk-toggleable__label {background-color: #d4ebff;}#sk-container-id-1 input.sk-hidden--visually {border: 0;clip: rect(1px 1px 1px 1px);clip: rect(1px, 1px, 1px, 1px);height: 1px;margin: -1px;overflow: hidden;padding: 0;position: absolute;width: 1px;}#sk-container-id-1 div.sk-estimator {font-family: monospace;background-color: #f0f8ff;border: 1px dotted black;border-radius: 0.25em;box-sizing: border-box;margin-bottom: 0.5em;}#sk-container-id-1 div.sk-estimator:hover {background-color: #d4ebff;}#sk-container-id-1 div.sk-parallel-item::after {content: \"\";width: 100%;border-bottom: 1px solid gray;flex-grow: 1;}#sk-container-id-1 div.sk-label:hover label.sk-toggleable__label {background-color: #d4ebff;}#sk-container-id-1 div.sk-serial::before {content: \"\";position: absolute;border-left: 1px solid gray;box-sizing: border-box;top: 0;bottom: 0;left: 50%;z-index: 0;}#sk-container-id-1 div.sk-serial {display: flex;flex-direction: column;align-items: center;background-color: white;padding-right: 0.2em;padding-left: 0.2em;position: relative;}#sk-container-id-1 div.sk-item {position: relative;z-index: 1;}#sk-container-id-1 div.sk-parallel {display: flex;align-items: stretch;justify-content: center;background-color: white;position: relative;}#sk-container-id-1 div.sk-item::before, #sk-container-id-1 div.sk-parallel-item::before {content: \"\";position: absolute;border-left: 1px solid gray;box-sizing: border-box;top: 0;bottom: 0;left: 50%;z-index: -1;}#sk-container-id-1 div.sk-parallel-item {display: flex;flex-direction: column;z-index: 1;position: relative;background-color: white;}#sk-container-id-1 div.sk-parallel-item:first-child::after {align-self: flex-end;width: 50%;}#sk-container-id-1 div.sk-parallel-item:last-child::after {align-self: flex-start;width: 50%;}#sk-container-id-1 div.sk-parallel-item:only-child::after {width: 0;}#sk-container-id-1 div.sk-dashed-wrapped {border: 1px dashed gray;margin: 0 0.4em 0.5em 0.4em;box-sizing: border-box;padding-bottom: 0.4em;background-color: white;}#sk-container-id-1 div.sk-label label {font-family: monospace;font-weight: bold;display: inline-block;line-height: 1.2em;}#sk-container-id-1 div.sk-label-container {text-align: center;}#sk-container-id-1 div.sk-container {/* jupyter's `normalize.less` sets `[hidden] { display: none; }` but bootstrap.min.css set `[hidden] { display: none !important; }` so we also need the `!important` here to be able to override the default hidden behavior on the sphinx rendered scikit-learn.org. See: https://github.com/scikit-learn/scikit-learn/issues/21755 */display: inline-block !important;position: relative;}#sk-container-id-1 div.sk-text-repr-fallback {display: none;}</style><div id=\"sk-container-id-1\" class=\"sk-top-container\"><div class=\"sk-text-repr-fallback\"><pre>SVC(kernel=&#x27;linear&#x27;)</pre><b>In a Jupyter environment, please rerun this cell to show the HTML representation or trust the notebook. <br />On GitHub, the HTML representation is unable to render, please try loading this page with nbviewer.org.</b></div><div class=\"sk-container\" hidden><div class=\"sk-item\"><div class=\"sk-estimator sk-toggleable\"><input class=\"sk-toggleable__control sk-hidden--visually\" id=\"sk-estimator-id-1\" type=\"checkbox\" checked><label for=\"sk-estimator-id-1\" class=\"sk-toggleable__label sk-toggleable__label-arrow\">SVC</label><div class=\"sk-toggleable__content\"><pre>SVC(kernel=&#x27;linear&#x27;)</pre></div></div></div></div></div>"
            ]
          },
          "metadata": {},
          "execution_count": 8
        }
      ]
    },
    {
      "cell_type": "markdown",
      "source": [
        "Create the Kernel SHAP Explainer"
      ],
      "metadata": {
        "id": "Q48z7TyxpjqQ"
      }
    },
    {
      "cell_type": "code",
      "source": [
        "X_train += 0\n",
        "background_summary = shap.kmeans(X_train,1)\n",
        "explainer = shap.KernelExplainer(svm_classifier.predict, background_summary)"
      ],
      "metadata": {
        "id": "i-H0ZxtupZmA"
      },
      "execution_count": 9,
      "outputs": []
    },
    {
      "cell_type": "markdown",
      "source": [
        "Compute SHAP Values"
      ],
      "metadata": {
        "id": "WzUXY13epqlf"
      }
    },
    {
      "cell_type": "code",
      "source": [
        "shap_values = explainer(X_test)\n",
        "# Visualization Module\n",
        "shap.summary_plot(shap_values, X_test, plot_type=\"bar\")"
      ],
      "metadata": {
        "colab": {
          "base_uri": "https://localhost:8080/",
          "height": 1000,
          "referenced_widgets": [
            "3e5c040c35af4f178a53d12bcec6d4db",
            "be12a3ff154e4415b528d32f11d92568",
            "863052c7371d4270911416727ddc7273",
            "06233b0176454425bb68e66772a549cb",
            "c3a0e49a7da741ad9fda9eaf7398d450",
            "61167cc3d2454bb3bdd55c9fb40be325",
            "38eeefe307a04e448a2c3f6687f7f7b5",
            "ef5355f8dd3d4494a8d76202b9daae32",
            "f7f0f5cb20094cfd9ed3392751e04395",
            "4e3e4bf18858437fa6ba267ad1998cbc",
            "e3309f8a7fc64d349d82eea328686296"
          ]
        },
        "id": "gJFpEjXcpyFU",
        "outputId": "40b9d0b9-07aa-4906-e0a1-b603c214d841"
      },
      "execution_count": 10,
      "outputs": [
        {
          "output_type": "display_data",
          "data": {
            "text/plain": [
              "  0%|          | 0/341 [00:00<?, ?it/s]"
            ],
            "application/vnd.jupyter.widget-view+json": {
              "version_major": 2,
              "version_minor": 0,
              "model_id": "3e5c040c35af4f178a53d12bcec6d4db"
            }
          },
          "metadata": {}
        },
        {
          "output_type": "stream",
          "name": "stderr",
          "text": [
            "/usr/local/lib/python3.10/dist-packages/sklearn/linear_model/_least_angle.py:2306: RuntimeWarning: divide by zero encountered in log\n",
            "  n_samples * np.log(2 * np.pi * self.noise_variance_)\n",
            "/usr/local/lib/python3.10/dist-packages/sklearn/linear_model/_least_angle.py:2307: RuntimeWarning: invalid value encountered in divide\n",
            "  + residuals_sum_squares / self.noise_variance_\n",
            "/usr/local/lib/python3.10/dist-packages/sklearn/linear_model/_least_angle.py:2306: RuntimeWarning: divide by zero encountered in log\n",
            "  n_samples * np.log(2 * np.pi * self.noise_variance_)\n",
            "/usr/local/lib/python3.10/dist-packages/sklearn/linear_model/_least_angle.py:2307: RuntimeWarning: invalid value encountered in divide\n",
            "  + residuals_sum_squares / self.noise_variance_\n",
            "/usr/local/lib/python3.10/dist-packages/sklearn/linear_model/_least_angle.py:2306: RuntimeWarning: divide by zero encountered in log\n",
            "  n_samples * np.log(2 * np.pi * self.noise_variance_)\n",
            "/usr/local/lib/python3.10/dist-packages/sklearn/linear_model/_least_angle.py:2307: RuntimeWarning: invalid value encountered in divide\n",
            "  + residuals_sum_squares / self.noise_variance_\n",
            "/usr/local/lib/python3.10/dist-packages/sklearn/linear_model/_least_angle.py:2306: RuntimeWarning: divide by zero encountered in log\n",
            "  n_samples * np.log(2 * np.pi * self.noise_variance_)\n",
            "/usr/local/lib/python3.10/dist-packages/sklearn/linear_model/_least_angle.py:2307: RuntimeWarning: invalid value encountered in divide\n",
            "  + residuals_sum_squares / self.noise_variance_\n",
            "/usr/local/lib/python3.10/dist-packages/sklearn/linear_model/_least_angle.py:2306: RuntimeWarning: divide by zero encountered in log\n",
            "  n_samples * np.log(2 * np.pi * self.noise_variance_)\n",
            "/usr/local/lib/python3.10/dist-packages/sklearn/linear_model/_least_angle.py:2307: RuntimeWarning: invalid value encountered in divide\n",
            "  + residuals_sum_squares / self.noise_variance_\n",
            "/usr/local/lib/python3.10/dist-packages/sklearn/linear_model/_least_angle.py:2306: RuntimeWarning: divide by zero encountered in log\n",
            "  n_samples * np.log(2 * np.pi * self.noise_variance_)\n",
            "/usr/local/lib/python3.10/dist-packages/sklearn/linear_model/_least_angle.py:2307: RuntimeWarning: invalid value encountered in divide\n",
            "  + residuals_sum_squares / self.noise_variance_\n",
            "/usr/local/lib/python3.10/dist-packages/sklearn/linear_model/_least_angle.py:2306: RuntimeWarning: divide by zero encountered in log\n",
            "  n_samples * np.log(2 * np.pi * self.noise_variance_)\n",
            "/usr/local/lib/python3.10/dist-packages/sklearn/linear_model/_least_angle.py:2307: RuntimeWarning: invalid value encountered in divide\n",
            "  + residuals_sum_squares / self.noise_variance_\n",
            "/usr/local/lib/python3.10/dist-packages/sklearn/linear_model/_least_angle.py:2306: RuntimeWarning: divide by zero encountered in log\n",
            "  n_samples * np.log(2 * np.pi * self.noise_variance_)\n",
            "/usr/local/lib/python3.10/dist-packages/sklearn/linear_model/_least_angle.py:2307: RuntimeWarning: invalid value encountered in divide\n",
            "  + residuals_sum_squares / self.noise_variance_\n",
            "/usr/local/lib/python3.10/dist-packages/sklearn/linear_model/_least_angle.py:2306: RuntimeWarning: divide by zero encountered in log\n",
            "  n_samples * np.log(2 * np.pi * self.noise_variance_)\n",
            "/usr/local/lib/python3.10/dist-packages/sklearn/linear_model/_least_angle.py:2307: RuntimeWarning: invalid value encountered in divide\n",
            "  + residuals_sum_squares / self.noise_variance_\n",
            "/usr/local/lib/python3.10/dist-packages/sklearn/linear_model/_least_angle.py:2306: RuntimeWarning: divide by zero encountered in log\n",
            "  n_samples * np.log(2 * np.pi * self.noise_variance_)\n",
            "/usr/local/lib/python3.10/dist-packages/sklearn/linear_model/_least_angle.py:2307: RuntimeWarning: invalid value encountered in divide\n",
            "  + residuals_sum_squares / self.noise_variance_\n",
            "/usr/local/lib/python3.10/dist-packages/sklearn/linear_model/_least_angle.py:2306: RuntimeWarning: divide by zero encountered in log\n",
            "  n_samples * np.log(2 * np.pi * self.noise_variance_)\n",
            "/usr/local/lib/python3.10/dist-packages/sklearn/linear_model/_least_angle.py:2307: RuntimeWarning: invalid value encountered in divide\n",
            "  + residuals_sum_squares / self.noise_variance_\n",
            "/usr/local/lib/python3.10/dist-packages/sklearn/linear_model/_least_angle.py:2306: RuntimeWarning: divide by zero encountered in log\n",
            "  n_samples * np.log(2 * np.pi * self.noise_variance_)\n",
            "/usr/local/lib/python3.10/dist-packages/sklearn/linear_model/_least_angle.py:2307: RuntimeWarning: invalid value encountered in divide\n",
            "  + residuals_sum_squares / self.noise_variance_\n",
            "/usr/local/lib/python3.10/dist-packages/sklearn/linear_model/_least_angle.py:2306: RuntimeWarning: divide by zero encountered in log\n",
            "  n_samples * np.log(2 * np.pi * self.noise_variance_)\n",
            "/usr/local/lib/python3.10/dist-packages/sklearn/linear_model/_least_angle.py:2307: RuntimeWarning: invalid value encountered in divide\n",
            "  + residuals_sum_squares / self.noise_variance_\n",
            "/usr/local/lib/python3.10/dist-packages/sklearn/linear_model/_least_angle.py:2306: RuntimeWarning: divide by zero encountered in log\n",
            "  n_samples * np.log(2 * np.pi * self.noise_variance_)\n",
            "/usr/local/lib/python3.10/dist-packages/sklearn/linear_model/_least_angle.py:2307: RuntimeWarning: invalid value encountered in divide\n",
            "  + residuals_sum_squares / self.noise_variance_\n",
            "/usr/local/lib/python3.10/dist-packages/sklearn/linear_model/_least_angle.py:2306: RuntimeWarning: divide by zero encountered in log\n",
            "  n_samples * np.log(2 * np.pi * self.noise_variance_)\n",
            "/usr/local/lib/python3.10/dist-packages/sklearn/linear_model/_least_angle.py:2307: RuntimeWarning: invalid value encountered in divide\n",
            "  + residuals_sum_squares / self.noise_variance_\n",
            "/usr/local/lib/python3.10/dist-packages/sklearn/linear_model/_least_angle.py:2306: RuntimeWarning: divide by zero encountered in log\n",
            "  n_samples * np.log(2 * np.pi * self.noise_variance_)\n",
            "/usr/local/lib/python3.10/dist-packages/sklearn/linear_model/_least_angle.py:2307: RuntimeWarning: invalid value encountered in divide\n",
            "  + residuals_sum_squares / self.noise_variance_\n",
            "/usr/local/lib/python3.10/dist-packages/sklearn/linear_model/_least_angle.py:2306: RuntimeWarning: divide by zero encountered in log\n",
            "  n_samples * np.log(2 * np.pi * self.noise_variance_)\n",
            "/usr/local/lib/python3.10/dist-packages/sklearn/linear_model/_least_angle.py:2307: RuntimeWarning: invalid value encountered in divide\n",
            "  + residuals_sum_squares / self.noise_variance_\n",
            "/usr/local/lib/python3.10/dist-packages/sklearn/linear_model/_least_angle.py:2306: RuntimeWarning: divide by zero encountered in log\n",
            "  n_samples * np.log(2 * np.pi * self.noise_variance_)\n",
            "/usr/local/lib/python3.10/dist-packages/sklearn/linear_model/_least_angle.py:2307: RuntimeWarning: invalid value encountered in divide\n",
            "  + residuals_sum_squares / self.noise_variance_\n",
            "/usr/local/lib/python3.10/dist-packages/sklearn/linear_model/_least_angle.py:2306: RuntimeWarning: divide by zero encountered in log\n",
            "  n_samples * np.log(2 * np.pi * self.noise_variance_)\n",
            "/usr/local/lib/python3.10/dist-packages/sklearn/linear_model/_least_angle.py:2307: RuntimeWarning: invalid value encountered in divide\n",
            "  + residuals_sum_squares / self.noise_variance_\n",
            "/usr/local/lib/python3.10/dist-packages/sklearn/linear_model/_least_angle.py:2306: RuntimeWarning: divide by zero encountered in log\n",
            "  n_samples * np.log(2 * np.pi * self.noise_variance_)\n",
            "/usr/local/lib/python3.10/dist-packages/sklearn/linear_model/_least_angle.py:2307: RuntimeWarning: invalid value encountered in divide\n",
            "  + residuals_sum_squares / self.noise_variance_\n",
            "/usr/local/lib/python3.10/dist-packages/sklearn/linear_model/_least_angle.py:2306: RuntimeWarning: divide by zero encountered in log\n",
            "  n_samples * np.log(2 * np.pi * self.noise_variance_)\n",
            "/usr/local/lib/python3.10/dist-packages/sklearn/linear_model/_least_angle.py:2307: RuntimeWarning: invalid value encountered in divide\n",
            "  + residuals_sum_squares / self.noise_variance_\n",
            "/usr/local/lib/python3.10/dist-packages/sklearn/linear_model/_least_angle.py:2306: RuntimeWarning: divide by zero encountered in log\n",
            "  n_samples * np.log(2 * np.pi * self.noise_variance_)\n",
            "/usr/local/lib/python3.10/dist-packages/sklearn/linear_model/_least_angle.py:2307: RuntimeWarning: invalid value encountered in divide\n",
            "  + residuals_sum_squares / self.noise_variance_\n",
            "/usr/local/lib/python3.10/dist-packages/sklearn/linear_model/_least_angle.py:2306: RuntimeWarning: divide by zero encountered in log\n",
            "  n_samples * np.log(2 * np.pi * self.noise_variance_)\n",
            "/usr/local/lib/python3.10/dist-packages/sklearn/linear_model/_least_angle.py:2307: RuntimeWarning: invalid value encountered in divide\n",
            "  + residuals_sum_squares / self.noise_variance_\n",
            "/usr/local/lib/python3.10/dist-packages/sklearn/linear_model/_least_angle.py:2306: RuntimeWarning: divide by zero encountered in log\n",
            "  n_samples * np.log(2 * np.pi * self.noise_variance_)\n",
            "/usr/local/lib/python3.10/dist-packages/sklearn/linear_model/_least_angle.py:2307: RuntimeWarning: invalid value encountered in divide\n",
            "  + residuals_sum_squares / self.noise_variance_\n",
            "/usr/local/lib/python3.10/dist-packages/sklearn/linear_model/_least_angle.py:2306: RuntimeWarning: divide by zero encountered in log\n",
            "  n_samples * np.log(2 * np.pi * self.noise_variance_)\n",
            "/usr/local/lib/python3.10/dist-packages/sklearn/linear_model/_least_angle.py:2307: RuntimeWarning: invalid value encountered in divide\n",
            "  + residuals_sum_squares / self.noise_variance_\n",
            "/usr/local/lib/python3.10/dist-packages/sklearn/linear_model/_least_angle.py:2306: RuntimeWarning: divide by zero encountered in log\n",
            "  n_samples * np.log(2 * np.pi * self.noise_variance_)\n",
            "/usr/local/lib/python3.10/dist-packages/sklearn/linear_model/_least_angle.py:2307: RuntimeWarning: invalid value encountered in divide\n",
            "  + residuals_sum_squares / self.noise_variance_\n",
            "/usr/local/lib/python3.10/dist-packages/sklearn/linear_model/_least_angle.py:2306: RuntimeWarning: divide by zero encountered in log\n",
            "  n_samples * np.log(2 * np.pi * self.noise_variance_)\n",
            "/usr/local/lib/python3.10/dist-packages/sklearn/linear_model/_least_angle.py:2307: RuntimeWarning: invalid value encountered in divide\n",
            "  + residuals_sum_squares / self.noise_variance_\n",
            "/usr/local/lib/python3.10/dist-packages/sklearn/linear_model/_least_angle.py:2306: RuntimeWarning: divide by zero encountered in log\n",
            "  n_samples * np.log(2 * np.pi * self.noise_variance_)\n",
            "/usr/local/lib/python3.10/dist-packages/sklearn/linear_model/_least_angle.py:2307: RuntimeWarning: invalid value encountered in divide\n",
            "  + residuals_sum_squares / self.noise_variance_\n",
            "/usr/local/lib/python3.10/dist-packages/sklearn/linear_model/_least_angle.py:2306: RuntimeWarning: divide by zero encountered in log\n",
            "  n_samples * np.log(2 * np.pi * self.noise_variance_)\n",
            "/usr/local/lib/python3.10/dist-packages/sklearn/linear_model/_least_angle.py:2307: RuntimeWarning: invalid value encountered in divide\n",
            "  + residuals_sum_squares / self.noise_variance_\n",
            "/usr/local/lib/python3.10/dist-packages/sklearn/linear_model/_least_angle.py:2306: RuntimeWarning: divide by zero encountered in log\n",
            "  n_samples * np.log(2 * np.pi * self.noise_variance_)\n",
            "/usr/local/lib/python3.10/dist-packages/sklearn/linear_model/_least_angle.py:2307: RuntimeWarning: invalid value encountered in divide\n",
            "  + residuals_sum_squares / self.noise_variance_\n",
            "/usr/local/lib/python3.10/dist-packages/sklearn/linear_model/_least_angle.py:2306: RuntimeWarning: divide by zero encountered in log\n",
            "  n_samples * np.log(2 * np.pi * self.noise_variance_)\n",
            "/usr/local/lib/python3.10/dist-packages/sklearn/linear_model/_least_angle.py:2307: RuntimeWarning: invalid value encountered in divide\n",
            "  + residuals_sum_squares / self.noise_variance_\n",
            "/usr/local/lib/python3.10/dist-packages/sklearn/linear_model/_least_angle.py:2306: RuntimeWarning: divide by zero encountered in log\n",
            "  n_samples * np.log(2 * np.pi * self.noise_variance_)\n",
            "/usr/local/lib/python3.10/dist-packages/sklearn/linear_model/_least_angle.py:2307: RuntimeWarning: invalid value encountered in divide\n",
            "  + residuals_sum_squares / self.noise_variance_\n",
            "/usr/local/lib/python3.10/dist-packages/sklearn/linear_model/_least_angle.py:2306: RuntimeWarning: divide by zero encountered in log\n",
            "  n_samples * np.log(2 * np.pi * self.noise_variance_)\n",
            "/usr/local/lib/python3.10/dist-packages/sklearn/linear_model/_least_angle.py:2307: RuntimeWarning: invalid value encountered in divide\n",
            "  + residuals_sum_squares / self.noise_variance_\n",
            "/usr/local/lib/python3.10/dist-packages/sklearn/linear_model/_least_angle.py:2306: RuntimeWarning: divide by zero encountered in log\n",
            "  n_samples * np.log(2 * np.pi * self.noise_variance_)\n",
            "/usr/local/lib/python3.10/dist-packages/sklearn/linear_model/_least_angle.py:2307: RuntimeWarning: invalid value encountered in divide\n",
            "  + residuals_sum_squares / self.noise_variance_\n",
            "/usr/local/lib/python3.10/dist-packages/sklearn/linear_model/_least_angle.py:2306: RuntimeWarning: divide by zero encountered in log\n",
            "  n_samples * np.log(2 * np.pi * self.noise_variance_)\n",
            "/usr/local/lib/python3.10/dist-packages/sklearn/linear_model/_least_angle.py:2307: RuntimeWarning: invalid value encountered in divide\n",
            "  + residuals_sum_squares / self.noise_variance_\n",
            "/usr/local/lib/python3.10/dist-packages/sklearn/linear_model/_least_angle.py:2306: RuntimeWarning: divide by zero encountered in log\n",
            "  n_samples * np.log(2 * np.pi * self.noise_variance_)\n",
            "/usr/local/lib/python3.10/dist-packages/sklearn/linear_model/_least_angle.py:2307: RuntimeWarning: invalid value encountered in divide\n",
            "  + residuals_sum_squares / self.noise_variance_\n",
            "/usr/local/lib/python3.10/dist-packages/sklearn/linear_model/_least_angle.py:2306: RuntimeWarning: divide by zero encountered in log\n",
            "  n_samples * np.log(2 * np.pi * self.noise_variance_)\n",
            "/usr/local/lib/python3.10/dist-packages/sklearn/linear_model/_least_angle.py:2307: RuntimeWarning: invalid value encountered in divide\n",
            "  + residuals_sum_squares / self.noise_variance_\n",
            "/usr/local/lib/python3.10/dist-packages/sklearn/linear_model/_least_angle.py:2306: RuntimeWarning: divide by zero encountered in log\n",
            "  n_samples * np.log(2 * np.pi * self.noise_variance_)\n",
            "/usr/local/lib/python3.10/dist-packages/sklearn/linear_model/_least_angle.py:2307: RuntimeWarning: invalid value encountered in divide\n",
            "  + residuals_sum_squares / self.noise_variance_\n",
            "/usr/local/lib/python3.10/dist-packages/sklearn/linear_model/_least_angle.py:2306: RuntimeWarning: divide by zero encountered in log\n",
            "  n_samples * np.log(2 * np.pi * self.noise_variance_)\n",
            "/usr/local/lib/python3.10/dist-packages/sklearn/linear_model/_least_angle.py:2307: RuntimeWarning: invalid value encountered in divide\n",
            "  + residuals_sum_squares / self.noise_variance_\n",
            "/usr/local/lib/python3.10/dist-packages/sklearn/linear_model/_least_angle.py:2306: RuntimeWarning: divide by zero encountered in log\n",
            "  n_samples * np.log(2 * np.pi * self.noise_variance_)\n",
            "/usr/local/lib/python3.10/dist-packages/sklearn/linear_model/_least_angle.py:2307: RuntimeWarning: invalid value encountered in divide\n",
            "  + residuals_sum_squares / self.noise_variance_\n",
            "/usr/local/lib/python3.10/dist-packages/sklearn/linear_model/_least_angle.py:2306: RuntimeWarning: divide by zero encountered in log\n",
            "  n_samples * np.log(2 * np.pi * self.noise_variance_)\n",
            "/usr/local/lib/python3.10/dist-packages/sklearn/linear_model/_least_angle.py:2307: RuntimeWarning: invalid value encountered in divide\n",
            "  + residuals_sum_squares / self.noise_variance_\n",
            "/usr/local/lib/python3.10/dist-packages/sklearn/linear_model/_least_angle.py:2306: RuntimeWarning: divide by zero encountered in log\n",
            "  n_samples * np.log(2 * np.pi * self.noise_variance_)\n",
            "/usr/local/lib/python3.10/dist-packages/sklearn/linear_model/_least_angle.py:2307: RuntimeWarning: invalid value encountered in divide\n",
            "  + residuals_sum_squares / self.noise_variance_\n",
            "/usr/local/lib/python3.10/dist-packages/sklearn/linear_model/_least_angle.py:2306: RuntimeWarning: divide by zero encountered in log\n",
            "  n_samples * np.log(2 * np.pi * self.noise_variance_)\n",
            "/usr/local/lib/python3.10/dist-packages/sklearn/linear_model/_least_angle.py:2307: RuntimeWarning: invalid value encountered in divide\n",
            "  + residuals_sum_squares / self.noise_variance_\n",
            "/usr/local/lib/python3.10/dist-packages/sklearn/linear_model/_least_angle.py:2306: RuntimeWarning: divide by zero encountered in log\n",
            "  n_samples * np.log(2 * np.pi * self.noise_variance_)\n",
            "/usr/local/lib/python3.10/dist-packages/sklearn/linear_model/_least_angle.py:2307: RuntimeWarning: invalid value encountered in divide\n",
            "  + residuals_sum_squares / self.noise_variance_\n",
            "/usr/local/lib/python3.10/dist-packages/sklearn/linear_model/_least_angle.py:2306: RuntimeWarning: divide by zero encountered in log\n",
            "  n_samples * np.log(2 * np.pi * self.noise_variance_)\n",
            "/usr/local/lib/python3.10/dist-packages/sklearn/linear_model/_least_angle.py:2307: RuntimeWarning: invalid value encountered in divide\n",
            "  + residuals_sum_squares / self.noise_variance_\n",
            "/usr/local/lib/python3.10/dist-packages/sklearn/linear_model/_least_angle.py:2306: RuntimeWarning: divide by zero encountered in log\n",
            "  n_samples * np.log(2 * np.pi * self.noise_variance_)\n",
            "/usr/local/lib/python3.10/dist-packages/sklearn/linear_model/_least_angle.py:2307: RuntimeWarning: invalid value encountered in divide\n",
            "  + residuals_sum_squares / self.noise_variance_\n",
            "/usr/local/lib/python3.10/dist-packages/sklearn/linear_model/_least_angle.py:2306: RuntimeWarning: divide by zero encountered in log\n",
            "  n_samples * np.log(2 * np.pi * self.noise_variance_)\n",
            "/usr/local/lib/python3.10/dist-packages/sklearn/linear_model/_least_angle.py:2307: RuntimeWarning: invalid value encountered in divide\n",
            "  + residuals_sum_squares / self.noise_variance_\n",
            "/usr/local/lib/python3.10/dist-packages/sklearn/linear_model/_least_angle.py:2306: RuntimeWarning: divide by zero encountered in log\n",
            "  n_samples * np.log(2 * np.pi * self.noise_variance_)\n",
            "/usr/local/lib/python3.10/dist-packages/sklearn/linear_model/_least_angle.py:2307: RuntimeWarning: invalid value encountered in divide\n",
            "  + residuals_sum_squares / self.noise_variance_\n",
            "/usr/local/lib/python3.10/dist-packages/sklearn/linear_model/_least_angle.py:2306: RuntimeWarning: divide by zero encountered in log\n",
            "  n_samples * np.log(2 * np.pi * self.noise_variance_)\n",
            "/usr/local/lib/python3.10/dist-packages/sklearn/linear_model/_least_angle.py:2307: RuntimeWarning: invalid value encountered in divide\n",
            "  + residuals_sum_squares / self.noise_variance_\n",
            "/usr/local/lib/python3.10/dist-packages/sklearn/linear_model/_least_angle.py:2306: RuntimeWarning: divide by zero encountered in log\n",
            "  n_samples * np.log(2 * np.pi * self.noise_variance_)\n",
            "/usr/local/lib/python3.10/dist-packages/sklearn/linear_model/_least_angle.py:2307: RuntimeWarning: invalid value encountered in divide\n",
            "  + residuals_sum_squares / self.noise_variance_\n",
            "/usr/local/lib/python3.10/dist-packages/sklearn/linear_model/_least_angle.py:2306: RuntimeWarning: divide by zero encountered in log\n",
            "  n_samples * np.log(2 * np.pi * self.noise_variance_)\n",
            "/usr/local/lib/python3.10/dist-packages/sklearn/linear_model/_least_angle.py:2307: RuntimeWarning: invalid value encountered in divide\n",
            "  + residuals_sum_squares / self.noise_variance_\n",
            "/usr/local/lib/python3.10/dist-packages/sklearn/linear_model/_least_angle.py:2306: RuntimeWarning: divide by zero encountered in log\n",
            "  n_samples * np.log(2 * np.pi * self.noise_variance_)\n",
            "/usr/local/lib/python3.10/dist-packages/sklearn/linear_model/_least_angle.py:2307: RuntimeWarning: invalid value encountered in divide\n",
            "  + residuals_sum_squares / self.noise_variance_\n",
            "/usr/local/lib/python3.10/dist-packages/sklearn/linear_model/_least_angle.py:2306: RuntimeWarning: divide by zero encountered in log\n",
            "  n_samples * np.log(2 * np.pi * self.noise_variance_)\n",
            "/usr/local/lib/python3.10/dist-packages/sklearn/linear_model/_least_angle.py:2307: RuntimeWarning: invalid value encountered in divide\n",
            "  + residuals_sum_squares / self.noise_variance_\n",
            "/usr/local/lib/python3.10/dist-packages/sklearn/linear_model/_least_angle.py:2306: RuntimeWarning: divide by zero encountered in log\n",
            "  n_samples * np.log(2 * np.pi * self.noise_variance_)\n",
            "/usr/local/lib/python3.10/dist-packages/sklearn/linear_model/_least_angle.py:2307: RuntimeWarning: invalid value encountered in divide\n",
            "  + residuals_sum_squares / self.noise_variance_\n",
            "/usr/local/lib/python3.10/dist-packages/sklearn/linear_model/_least_angle.py:2306: RuntimeWarning: divide by zero encountered in log\n",
            "  n_samples * np.log(2 * np.pi * self.noise_variance_)\n",
            "/usr/local/lib/python3.10/dist-packages/sklearn/linear_model/_least_angle.py:2307: RuntimeWarning: invalid value encountered in divide\n",
            "  + residuals_sum_squares / self.noise_variance_\n",
            "/usr/local/lib/python3.10/dist-packages/sklearn/linear_model/_least_angle.py:2306: RuntimeWarning: divide by zero encountered in log\n",
            "  n_samples * np.log(2 * np.pi * self.noise_variance_)\n",
            "/usr/local/lib/python3.10/dist-packages/sklearn/linear_model/_least_angle.py:2307: RuntimeWarning: invalid value encountered in divide\n",
            "  + residuals_sum_squares / self.noise_variance_\n",
            "/usr/local/lib/python3.10/dist-packages/sklearn/linear_model/_least_angle.py:2306: RuntimeWarning: divide by zero encountered in log\n",
            "  n_samples * np.log(2 * np.pi * self.noise_variance_)\n",
            "/usr/local/lib/python3.10/dist-packages/sklearn/linear_model/_least_angle.py:2307: RuntimeWarning: invalid value encountered in divide\n",
            "  + residuals_sum_squares / self.noise_variance_\n",
            "/usr/local/lib/python3.10/dist-packages/sklearn/linear_model/_least_angle.py:2306: RuntimeWarning: divide by zero encountered in log\n",
            "  n_samples * np.log(2 * np.pi * self.noise_variance_)\n",
            "/usr/local/lib/python3.10/dist-packages/sklearn/linear_model/_least_angle.py:2307: RuntimeWarning: invalid value encountered in divide\n",
            "  + residuals_sum_squares / self.noise_variance_\n",
            "/usr/local/lib/python3.10/dist-packages/sklearn/linear_model/_least_angle.py:2306: RuntimeWarning: divide by zero encountered in log\n",
            "  n_samples * np.log(2 * np.pi * self.noise_variance_)\n",
            "/usr/local/lib/python3.10/dist-packages/sklearn/linear_model/_least_angle.py:2307: RuntimeWarning: invalid value encountered in divide\n",
            "  + residuals_sum_squares / self.noise_variance_\n",
            "/usr/local/lib/python3.10/dist-packages/sklearn/linear_model/_least_angle.py:2306: RuntimeWarning: divide by zero encountered in log\n",
            "  n_samples * np.log(2 * np.pi * self.noise_variance_)\n",
            "/usr/local/lib/python3.10/dist-packages/sklearn/linear_model/_least_angle.py:2307: RuntimeWarning: invalid value encountered in divide\n",
            "  + residuals_sum_squares / self.noise_variance_\n",
            "/usr/local/lib/python3.10/dist-packages/sklearn/linear_model/_least_angle.py:2306: RuntimeWarning: divide by zero encountered in log\n",
            "  n_samples * np.log(2 * np.pi * self.noise_variance_)\n",
            "/usr/local/lib/python3.10/dist-packages/sklearn/linear_model/_least_angle.py:2307: RuntimeWarning: invalid value encountered in divide\n",
            "  + residuals_sum_squares / self.noise_variance_\n",
            "/usr/local/lib/python3.10/dist-packages/sklearn/linear_model/_least_angle.py:2306: RuntimeWarning: divide by zero encountered in log\n",
            "  n_samples * np.log(2 * np.pi * self.noise_variance_)\n",
            "/usr/local/lib/python3.10/dist-packages/sklearn/linear_model/_least_angle.py:2307: RuntimeWarning: invalid value encountered in divide\n",
            "  + residuals_sum_squares / self.noise_variance_\n",
            "/usr/local/lib/python3.10/dist-packages/sklearn/linear_model/_least_angle.py:2306: RuntimeWarning: divide by zero encountered in log\n",
            "  n_samples * np.log(2 * np.pi * self.noise_variance_)\n",
            "/usr/local/lib/python3.10/dist-packages/sklearn/linear_model/_least_angle.py:2307: RuntimeWarning: invalid value encountered in divide\n",
            "  + residuals_sum_squares / self.noise_variance_\n",
            "/usr/local/lib/python3.10/dist-packages/sklearn/linear_model/_least_angle.py:2306: RuntimeWarning: divide by zero encountered in log\n",
            "  n_samples * np.log(2 * np.pi * self.noise_variance_)\n",
            "/usr/local/lib/python3.10/dist-packages/sklearn/linear_model/_least_angle.py:2307: RuntimeWarning: invalid value encountered in divide\n",
            "  + residuals_sum_squares / self.noise_variance_\n",
            "/usr/local/lib/python3.10/dist-packages/sklearn/linear_model/_least_angle.py:2306: RuntimeWarning: divide by zero encountered in log\n",
            "  n_samples * np.log(2 * np.pi * self.noise_variance_)\n",
            "/usr/local/lib/python3.10/dist-packages/sklearn/linear_model/_least_angle.py:2307: RuntimeWarning: invalid value encountered in divide\n",
            "  + residuals_sum_squares / self.noise_variance_\n",
            "/usr/local/lib/python3.10/dist-packages/sklearn/linear_model/_least_angle.py:2306: RuntimeWarning: divide by zero encountered in log\n",
            "  n_samples * np.log(2 * np.pi * self.noise_variance_)\n",
            "/usr/local/lib/python3.10/dist-packages/sklearn/linear_model/_least_angle.py:2307: RuntimeWarning: invalid value encountered in divide\n",
            "  + residuals_sum_squares / self.noise_variance_\n",
            "/usr/local/lib/python3.10/dist-packages/sklearn/linear_model/_least_angle.py:2306: RuntimeWarning: divide by zero encountered in log\n",
            "  n_samples * np.log(2 * np.pi * self.noise_variance_)\n",
            "/usr/local/lib/python3.10/dist-packages/sklearn/linear_model/_least_angle.py:2307: RuntimeWarning: invalid value encountered in divide\n",
            "  + residuals_sum_squares / self.noise_variance_\n",
            "/usr/local/lib/python3.10/dist-packages/sklearn/linear_model/_least_angle.py:2306: RuntimeWarning: divide by zero encountered in log\n",
            "  n_samples * np.log(2 * np.pi * self.noise_variance_)\n",
            "/usr/local/lib/python3.10/dist-packages/sklearn/linear_model/_least_angle.py:2307: RuntimeWarning: invalid value encountered in divide\n",
            "  + residuals_sum_squares / self.noise_variance_\n",
            "/usr/local/lib/python3.10/dist-packages/sklearn/linear_model/_least_angle.py:2306: RuntimeWarning: divide by zero encountered in log\n",
            "  n_samples * np.log(2 * np.pi * self.noise_variance_)\n",
            "/usr/local/lib/python3.10/dist-packages/sklearn/linear_model/_least_angle.py:2307: RuntimeWarning: invalid value encountered in divide\n",
            "  + residuals_sum_squares / self.noise_variance_\n",
            "/usr/local/lib/python3.10/dist-packages/sklearn/linear_model/_least_angle.py:2306: RuntimeWarning: divide by zero encountered in log\n",
            "  n_samples * np.log(2 * np.pi * self.noise_variance_)\n",
            "/usr/local/lib/python3.10/dist-packages/sklearn/linear_model/_least_angle.py:2307: RuntimeWarning: invalid value encountered in divide\n",
            "  + residuals_sum_squares / self.noise_variance_\n",
            "/usr/local/lib/python3.10/dist-packages/sklearn/linear_model/_least_angle.py:2306: RuntimeWarning: divide by zero encountered in log\n",
            "  n_samples * np.log(2 * np.pi * self.noise_variance_)\n",
            "/usr/local/lib/python3.10/dist-packages/sklearn/linear_model/_least_angle.py:2307: RuntimeWarning: invalid value encountered in divide\n",
            "  + residuals_sum_squares / self.noise_variance_\n",
            "/usr/local/lib/python3.10/dist-packages/sklearn/linear_model/_least_angle.py:2306: RuntimeWarning: divide by zero encountered in log\n",
            "  n_samples * np.log(2 * np.pi * self.noise_variance_)\n",
            "/usr/local/lib/python3.10/dist-packages/sklearn/linear_model/_least_angle.py:2307: RuntimeWarning: invalid value encountered in divide\n",
            "  + residuals_sum_squares / self.noise_variance_\n",
            "/usr/local/lib/python3.10/dist-packages/sklearn/linear_model/_least_angle.py:2306: RuntimeWarning: divide by zero encountered in log\n",
            "  n_samples * np.log(2 * np.pi * self.noise_variance_)\n",
            "/usr/local/lib/python3.10/dist-packages/sklearn/linear_model/_least_angle.py:2307: RuntimeWarning: invalid value encountered in divide\n",
            "  + residuals_sum_squares / self.noise_variance_\n",
            "/usr/local/lib/python3.10/dist-packages/sklearn/linear_model/_least_angle.py:2306: RuntimeWarning: divide by zero encountered in log\n",
            "  n_samples * np.log(2 * np.pi * self.noise_variance_)\n",
            "/usr/local/lib/python3.10/dist-packages/sklearn/linear_model/_least_angle.py:2307: RuntimeWarning: invalid value encountered in divide\n",
            "  + residuals_sum_squares / self.noise_variance_\n",
            "/usr/local/lib/python3.10/dist-packages/sklearn/linear_model/_least_angle.py:2306: RuntimeWarning: divide by zero encountered in log\n",
            "  n_samples * np.log(2 * np.pi * self.noise_variance_)\n",
            "/usr/local/lib/python3.10/dist-packages/sklearn/linear_model/_least_angle.py:2307: RuntimeWarning: invalid value encountered in divide\n",
            "  + residuals_sum_squares / self.noise_variance_\n",
            "/usr/local/lib/python3.10/dist-packages/sklearn/linear_model/_least_angle.py:2306: RuntimeWarning: divide by zero encountered in log\n",
            "  n_samples * np.log(2 * np.pi * self.noise_variance_)\n",
            "/usr/local/lib/python3.10/dist-packages/sklearn/linear_model/_least_angle.py:2307: RuntimeWarning: invalid value encountered in divide\n",
            "  + residuals_sum_squares / self.noise_variance_\n",
            "/usr/local/lib/python3.10/dist-packages/sklearn/linear_model/_least_angle.py:2306: RuntimeWarning: divide by zero encountered in log\n",
            "  n_samples * np.log(2 * np.pi * self.noise_variance_)\n",
            "/usr/local/lib/python3.10/dist-packages/sklearn/linear_model/_least_angle.py:2307: RuntimeWarning: invalid value encountered in divide\n",
            "  + residuals_sum_squares / self.noise_variance_\n",
            "/usr/local/lib/python3.10/dist-packages/sklearn/linear_model/_least_angle.py:2306: RuntimeWarning: divide by zero encountered in log\n",
            "  n_samples * np.log(2 * np.pi * self.noise_variance_)\n",
            "/usr/local/lib/python3.10/dist-packages/sklearn/linear_model/_least_angle.py:2307: RuntimeWarning: invalid value encountered in divide\n",
            "  + residuals_sum_squares / self.noise_variance_\n",
            "/usr/local/lib/python3.10/dist-packages/sklearn/linear_model/_least_angle.py:2306: RuntimeWarning: divide by zero encountered in log\n",
            "  n_samples * np.log(2 * np.pi * self.noise_variance_)\n",
            "/usr/local/lib/python3.10/dist-packages/sklearn/linear_model/_least_angle.py:2307: RuntimeWarning: invalid value encountered in divide\n",
            "  + residuals_sum_squares / self.noise_variance_\n",
            "/usr/local/lib/python3.10/dist-packages/sklearn/linear_model/_least_angle.py:2306: RuntimeWarning: divide by zero encountered in log\n",
            "  n_samples * np.log(2 * np.pi * self.noise_variance_)\n",
            "/usr/local/lib/python3.10/dist-packages/sklearn/linear_model/_least_angle.py:2307: RuntimeWarning: invalid value encountered in divide\n",
            "  + residuals_sum_squares / self.noise_variance_\n",
            "/usr/local/lib/python3.10/dist-packages/sklearn/linear_model/_least_angle.py:2306: RuntimeWarning: divide by zero encountered in log\n",
            "  n_samples * np.log(2 * np.pi * self.noise_variance_)\n",
            "/usr/local/lib/python3.10/dist-packages/sklearn/linear_model/_least_angle.py:2307: RuntimeWarning: invalid value encountered in divide\n",
            "  + residuals_sum_squares / self.noise_variance_\n",
            "/usr/local/lib/python3.10/dist-packages/sklearn/linear_model/_least_angle.py:2306: RuntimeWarning: divide by zero encountered in log\n",
            "  n_samples * np.log(2 * np.pi * self.noise_variance_)\n",
            "/usr/local/lib/python3.10/dist-packages/sklearn/linear_model/_least_angle.py:2307: RuntimeWarning: invalid value encountered in divide\n",
            "  + residuals_sum_squares / self.noise_variance_\n",
            "/usr/local/lib/python3.10/dist-packages/sklearn/linear_model/_least_angle.py:2306: RuntimeWarning: divide by zero encountered in log\n",
            "  n_samples * np.log(2 * np.pi * self.noise_variance_)\n",
            "/usr/local/lib/python3.10/dist-packages/sklearn/linear_model/_least_angle.py:2307: RuntimeWarning: invalid value encountered in divide\n",
            "  + residuals_sum_squares / self.noise_variance_\n",
            "/usr/local/lib/python3.10/dist-packages/sklearn/linear_model/_least_angle.py:2306: RuntimeWarning: divide by zero encountered in log\n",
            "  n_samples * np.log(2 * np.pi * self.noise_variance_)\n",
            "/usr/local/lib/python3.10/dist-packages/sklearn/linear_model/_least_angle.py:2307: RuntimeWarning: invalid value encountered in divide\n",
            "  + residuals_sum_squares / self.noise_variance_\n",
            "/usr/local/lib/python3.10/dist-packages/sklearn/linear_model/_least_angle.py:2306: RuntimeWarning: divide by zero encountered in log\n",
            "  n_samples * np.log(2 * np.pi * self.noise_variance_)\n",
            "/usr/local/lib/python3.10/dist-packages/sklearn/linear_model/_least_angle.py:2307: RuntimeWarning: invalid value encountered in divide\n",
            "  + residuals_sum_squares / self.noise_variance_\n",
            "/usr/local/lib/python3.10/dist-packages/sklearn/linear_model/_least_angle.py:2306: RuntimeWarning: divide by zero encountered in log\n",
            "  n_samples * np.log(2 * np.pi * self.noise_variance_)\n",
            "/usr/local/lib/python3.10/dist-packages/sklearn/linear_model/_least_angle.py:2307: RuntimeWarning: invalid value encountered in divide\n",
            "  + residuals_sum_squares / self.noise_variance_\n"
          ]
        },
        {
          "output_type": "display_data",
          "data": {
            "text/plain": [
              "<Figure size 800x950 with 1 Axes>"
            ],
            "image/png": "[encoded data removed]"
          },
          "metadata": {}
        }
      ]
    },
    {
      "cell_type": "markdown",
      "source": [
        "Evaluation Metric: Hamming Score for multi-classification model"
      ],
      "metadata": {
        "id": "0FiKTPYRqbk9"
      }
    },
    {
      "cell_type": "code",
      "source": [
        "hamming_score = svm_classifier.score(X_test, y_test)\n",
        "print(\"Hamming Score:\", hamming_score)"
      ],
      "metadata": {
        "colab": {
          "base_uri": "https://localhost:8080/"
        },
        "id": "i0VLB4-MqfRT",
        "outputId": "e5233f39-dd09-4584-812d-5a9cd140776c"
      },
      "execution_count": 11,
      "outputs": [
        {
          "output_type": "stream",
          "name": "stdout",
          "text": [
            "Hamming Score: 0.7800586510263929\n"
          ]
        }
      ]
    },
    {
      "cell_type": "markdown",
      "source": [
        "Identity: Compare explanations with actual model behavior"
      ],
      "metadata": {
        "id": "VKQzzKogqkDz"
      }
    },
    {
      "cell_type": "code",
      "source": [
        "def compute_identity_accuracy(explanations, model_predictions):\n",
        "    # Compute accuracy by comparing explanations with model predictions\n",
        "    correct = 0\n",
        "    total = len(model_predictions)\n",
        "    for i in range(total):\n",
        "        if np.array_equal(explanations[i], model_predictions[i]):\n",
        "            correct += 1"
      ],
      "metadata": {
        "id": "ehyoGzLCqjLu"
      },
      "execution_count": 12,
      "outputs": []
    },
    {
      "cell_type": "markdown",
      "source": [
        "Separability: Assess distinctiveness of explanations for different classes"
      ],
      "metadata": {
        "id": "v9jy8Dscqz5E"
      }
    },
    {
      "cell_type": "code",
      "source": [
        "def compute_separability(explanations, model_predictions):\n",
        "    # Compute separability by comparing explanations for different classes\n",
        "    unique_explanations = set()\n",
        "    for i in range(len(model_predictions)):\n",
        "        unique_explanations.add((model_predictions[i], explanations[i]))\n",
        "    return len(unique_explanations) / len(model_predictions)"
      ],
      "metadata": {
        "id": "IRws8r3OqzY4"
      },
      "execution_count": 13,
      "outputs": []
    },
    {
      "cell_type": "markdown",
      "source": [
        "Similarity: Measure consistency of explanations for similar instances"
      ],
      "metadata": {
        "id": "E7XbBB4zrKHg"
      }
    },
    {
      "cell_type": "code",
      "source": [
        "def compute_similarity(explanations, similar_instances):\n",
        "    # Compute similarity between explanations for similar instances\n",
        "    similarity_scores = []\n",
        "    for instance in similar_instances:\n",
        "        similarity_score = cosine_similarity(explanations[instance], explanations[instance+1])\n",
        "        similarity_scores.append(similarity_score)\n",
        "    return np.mean(similarity_scores)"
      ],
      "metadata": {
        "id": "u7UnnBKqrJnt"
      },
      "execution_count": 14,
      "outputs": []
    },
    {
      "cell_type": "markdown",
      "source": [
        "Stability: Evaluate robustness of explanations to perturbations"
      ],
      "metadata": {
        "id": "0ZivfExBrWK2"
      }
    },
    {
      "cell_type": "code",
      "source": [
        "def compute_stability(explanations, perturbed_explanations):\n",
        "    # Compute stability by comparing explanations with perturbed explanations\n",
        "    stability_scores = []\n",
        "    for i in range(len(explanations)):\n",
        "        stability_score = np.linalg.norm(explanations[i] - perturbed_explanations[i])\n",
        "        stability_scores.append(stability_score)\n",
        "    return np.mean(stability_scores)"
      ],
      "metadata": {
        "id": "OCoIbIsxrVeg"
      },
      "execution_count": 15,
      "outputs": []
    },
    {
      "cell_type": "markdown",
      "source": [
        "Perturb data function for stability evaluation"
      ],
      "metadata": {
        "id": "x9jm1V7ereju"
      }
    },
    {
      "cell_type": "code",
      "source": [
        "def perturb_data(data, epsilon):\n",
        "    # Add noise to the data to create perturbed instances\n",
        "    perturbed_data = data + epsilon * np.random.randn(*data.shape)\n",
        "    return perturbed_data\n"
      ],
      "metadata": {
        "id": "p7qW7ytJreMm"
      },
      "execution_count": 16,
      "outputs": []
    },
    {
      "cell_type": "markdown",
      "source": [
        "Now, compute the metrics\n",
        "Compute SHAP Values"
      ],
      "metadata": {
        "id": "TBPhjwSprpBj"
      }
    },
    {
      "cell_type": "code",
      "source": [
        "shap_values = explainer.shap_values(X_test)"
      ],
      "metadata": {
        "colab": {
          "base_uri": "https://localhost:8080/",
          "height": 1000,
          "referenced_widgets": [
            "b7ff7d2744854ac3a9dee54ecc7860ca",
            "4c6821a6d6ad44d980134e821f0ce8f3",
            "ed8a8ca6e0e24cce91979536eb748fa0",
            "9ab82150dc74420d8bad4a69a4356b25",
            "c3a4a621971740ed99a1fad09aaa52fc",
            "28b8c55389b546b6a612922b2637deb6",
            "b52ec66d97f947e293d4a16d0e7c829f",
            "4d7d06120f494137b1adfc759b733d7a",
            "db358cdcc028423eb5d223aad97b19ab",
            "97e8a88c071d4974a279882ce64e7c04",
            "82b5d478d3a74ccb89085b68b426ca1a"
          ]
        },
        "id": "LkZ8ipASrouE",
        "outputId": "973d5f52-3b0f-4a13-9d0e-d8c834d65e19"
      },
      "execution_count": 17,
      "outputs": [
        {
          "output_type": "display_data",
          "data": {
            "text/plain": [
              "  0%|          | 0/341 [00:00<?, ?it/s]"
            ],
            "application/vnd.jupyter.widget-view+json": {
              "version_major": 2,
              "version_minor": 0,
              "model_id": "b7ff7d2744854ac3a9dee54ecc7860ca"
            }
          },
          "metadata": {}
        },
        {
          "output_type": "stream",
          "name": "stderr",
          "text": [
            "/usr/local/lib/python3.10/dist-packages/sklearn/linear_model/_least_angle.py:2306: RuntimeWarning: divide by zero encountered in log\n",
            "  n_samples * np.log(2 * np.pi * self.noise_variance_)\n",
            "/usr/local/lib/python3.10/dist-packages/sklearn/linear_model/_least_angle.py:2307: RuntimeWarning: invalid value encountered in divide\n",
            "  + residuals_sum_squares / self.noise_variance_\n",
            "/usr/local/lib/python3.10/dist-packages/sklearn/linear_model/_least_angle.py:2306: RuntimeWarning: divide by zero encountered in log\n",
            "  n_samples * np.log(2 * np.pi * self.noise_variance_)\n",
            "/usr/local/lib/python3.10/dist-packages/sklearn/linear_model/_least_angle.py:2307: RuntimeWarning: invalid value encountered in divide\n",
            "  + residuals_sum_squares / self.noise_variance_\n",
            "/usr/local/lib/python3.10/dist-packages/sklearn/linear_model/_least_angle.py:2306: RuntimeWarning: divide by zero encountered in log\n",
            "  n_samples * np.log(2 * np.pi * self.noise_variance_)\n",
            "/usr/local/lib/python3.10/dist-packages/sklearn/linear_model/_least_angle.py:2307: RuntimeWarning: invalid value encountered in divide\n",
            "  + residuals_sum_squares / self.noise_variance_\n",
            "/usr/local/lib/python3.10/dist-packages/sklearn/linear_model/_least_angle.py:2306: RuntimeWarning: divide by zero encountered in log\n",
            "  n_samples * np.log(2 * np.pi * self.noise_variance_)\n",
            "/usr/local/lib/python3.10/dist-packages/sklearn/linear_model/_least_angle.py:2307: RuntimeWarning: invalid value encountered in divide\n",
            "  + residuals_sum_squares / self.noise_variance_\n",
            "/usr/local/lib/python3.10/dist-packages/sklearn/linear_model/_least_angle.py:2306: RuntimeWarning: divide by zero encountered in log\n",
            "  n_samples * np.log(2 * np.pi * self.noise_variance_)\n",
            "/usr/local/lib/python3.10/dist-packages/sklearn/linear_model/_least_angle.py:2307: RuntimeWarning: invalid value encountered in divide\n",
            "  + residuals_sum_squares / self.noise_variance_\n",
            "/usr/local/lib/python3.10/dist-packages/sklearn/linear_model/_least_angle.py:2306: RuntimeWarning: divide by zero encountered in log\n",
            "  n_samples * np.log(2 * np.pi * self.noise_variance_)\n",
            "/usr/local/lib/python3.10/dist-packages/sklearn/linear_model/_least_angle.py:2307: RuntimeWarning: invalid value encountered in divide\n",
            "  + residuals_sum_squares / self.noise_variance_\n",
            "/usr/local/lib/python3.10/dist-packages/sklearn/linear_model/_least_angle.py:2306: RuntimeWarning: divide by zero encountered in log\n",
            "  n_samples * np.log(2 * np.pi * self.noise_variance_)\n",
            "/usr/local/lib/python3.10/dist-packages/sklearn/linear_model/_least_angle.py:2307: RuntimeWarning: invalid value encountered in divide\n",
            "  + residuals_sum_squares / self.noise_variance_\n",
            "/usr/local/lib/python3.10/dist-packages/sklearn/linear_model/_least_angle.py:2306: RuntimeWarning: divide by zero encountered in log\n",
            "  n_samples * np.log(2 * np.pi * self.noise_variance_)\n",
            "/usr/local/lib/python3.10/dist-packages/sklearn/linear_model/_least_angle.py:2307: RuntimeWarning: invalid value encountered in divide\n",
            "  + residuals_sum_squares / self.noise_variance_\n",
            "/usr/local/lib/python3.10/dist-packages/sklearn/linear_model/_least_angle.py:2306: RuntimeWarning: divide by zero encountered in log\n",
            "  n_samples * np.log(2 * np.pi * self.noise_variance_)\n",
            "/usr/local/lib/python3.10/dist-packages/sklearn/linear_model/_least_angle.py:2307: RuntimeWarning: invalid value encountered in divide\n",
            "  + residuals_sum_squares / self.noise_variance_\n",
            "/usr/local/lib/python3.10/dist-packages/sklearn/linear_model/_least_angle.py:2306: RuntimeWarning: divide by zero encountered in log\n",
            "  n_samples * np.log(2 * np.pi * self.noise_variance_)\n",
            "/usr/local/lib/python3.10/dist-packages/sklearn/linear_model/_least_angle.py:2307: RuntimeWarning: invalid value encountered in divide\n",
            "  + residuals_sum_squares / self.noise_variance_\n",
            "/usr/local/lib/python3.10/dist-packages/sklearn/linear_model/_least_angle.py:2306: RuntimeWarning: divide by zero encountered in log\n",
            "  n_samples * np.log(2 * np.pi * self.noise_variance_)\n",
            "/usr/local/lib/python3.10/dist-packages/sklearn/linear_model/_least_angle.py:2307: RuntimeWarning: invalid value encountered in divide\n",
            "  + residuals_sum_squares / self.noise_variance_\n",
            "/usr/local/lib/python3.10/dist-packages/sklearn/linear_model/_least_angle.py:2306: RuntimeWarning: divide by zero encountered in log\n",
            "  n_samples * np.log(2 * np.pi * self.noise_variance_)\n",
            "/usr/local/lib/python3.10/dist-packages/sklearn/linear_model/_least_angle.py:2307: RuntimeWarning: invalid value encountered in divide\n",
            "  + residuals_sum_squares / self.noise_variance_\n",
            "/usr/local/lib/python3.10/dist-packages/sklearn/linear_model/_least_angle.py:2306: RuntimeWarning: divide by zero encountered in log\n",
            "  n_samples * np.log(2 * np.pi * self.noise_variance_)\n",
            "/usr/local/lib/python3.10/dist-packages/sklearn/linear_model/_least_angle.py:2307: RuntimeWarning: invalid value encountered in divide\n",
            "  + residuals_sum_squares / self.noise_variance_\n",
            "/usr/local/lib/python3.10/dist-packages/sklearn/linear_model/_least_angle.py:2306: RuntimeWarning: divide by zero encountered in log\n",
            "  n_samples * np.log(2 * np.pi * self.noise_variance_)\n",
            "/usr/local/lib/python3.10/dist-packages/sklearn/linear_model/_least_angle.py:2307: RuntimeWarning: invalid value encountered in divide\n",
            "  + residuals_sum_squares / self.noise_variance_\n",
            "/usr/local/lib/python3.10/dist-packages/sklearn/linear_model/_least_angle.py:2306: RuntimeWarning: divide by zero encountered in log\n",
            "  n_samples * np.log(2 * np.pi * self.noise_variance_)\n",
            "/usr/local/lib/python3.10/dist-packages/sklearn/linear_model/_least_angle.py:2307: RuntimeWarning: invalid value encountered in divide\n",
            "  + residuals_sum_squares / self.noise_variance_\n",
            "/usr/local/lib/python3.10/dist-packages/sklearn/linear_model/_least_angle.py:2306: RuntimeWarning: divide by zero encountered in log\n",
            "  n_samples * np.log(2 * np.pi * self.noise_variance_)\n",
            "/usr/local/lib/python3.10/dist-packages/sklearn/linear_model/_least_angle.py:2307: RuntimeWarning: invalid value encountered in divide\n",
            "  + residuals_sum_squares / self.noise_variance_\n",
            "/usr/local/lib/python3.10/dist-packages/sklearn/linear_model/_least_angle.py:2306: RuntimeWarning: divide by zero encountered in log\n",
            "  n_samples * np.log(2 * np.pi * self.noise_variance_)\n",
            "/usr/local/lib/python3.10/dist-packages/sklearn/linear_model/_least_angle.py:2307: RuntimeWarning: invalid value encountered in divide\n",
            "  + residuals_sum_squares / self.noise_variance_\n",
            "/usr/local/lib/python3.10/dist-packages/sklearn/linear_model/_least_angle.py:2306: RuntimeWarning: divide by zero encountered in log\n",
            "  n_samples * np.log(2 * np.pi * self.noise_variance_)\n",
            "/usr/local/lib/python3.10/dist-packages/sklearn/linear_model/_least_angle.py:2307: RuntimeWarning: invalid value encountered in divide\n",
            "  + residuals_sum_squares / self.noise_variance_\n",
            "/usr/local/lib/python3.10/dist-packages/sklearn/linear_model/_least_angle.py:2306: RuntimeWarning: divide by zero encountered in log\n",
            "  n_samples * np.log(2 * np.pi * self.noise_variance_)\n",
            "/usr/local/lib/python3.10/dist-packages/sklearn/linear_model/_least_angle.py:2307: RuntimeWarning: invalid value encountered in divide\n",
            "  + residuals_sum_squares / self.noise_variance_\n",
            "/usr/local/lib/python3.10/dist-packages/sklearn/linear_model/_least_angle.py:2306: RuntimeWarning: divide by zero encountered in log\n",
            "  n_samples * np.log(2 * np.pi * self.noise_variance_)\n",
            "/usr/local/lib/python3.10/dist-packages/sklearn/linear_model/_least_angle.py:2307: RuntimeWarning: invalid value encountered in divide\n",
            "  + residuals_sum_squares / self.noise_variance_\n",
            "/usr/local/lib/python3.10/dist-packages/sklearn/linear_model/_least_angle.py:2306: RuntimeWarning: divide by zero encountered in log\n",
            "  n_samples * np.log(2 * np.pi * self.noise_variance_)\n",
            "/usr/local/lib/python3.10/dist-packages/sklearn/linear_model/_least_angle.py:2307: RuntimeWarning: invalid value encountered in divide\n",
            "  + residuals_sum_squares / self.noise_variance_\n",
            "/usr/local/lib/python3.10/dist-packages/sklearn/linear_model/_least_angle.py:2306: RuntimeWarning: divide by zero encountered in log\n",
            "  n_samples * np.log(2 * np.pi * self.noise_variance_)\n",
            "/usr/local/lib/python3.10/dist-packages/sklearn/linear_model/_least_angle.py:2307: RuntimeWarning: invalid value encountered in divide\n",
            "  + residuals_sum_squares / self.noise_variance_\n",
            "/usr/local/lib/python3.10/dist-packages/sklearn/linear_model/_least_angle.py:2306: RuntimeWarning: divide by zero encountered in log\n",
            "  n_samples * np.log(2 * np.pi * self.noise_variance_)\n",
            "/usr/local/lib/python3.10/dist-packages/sklearn/linear_model/_least_angle.py:2307: RuntimeWarning: invalid value encountered in divide\n",
            "  + residuals_sum_squares / self.noise_variance_\n",
            "/usr/local/lib/python3.10/dist-packages/sklearn/linear_model/_least_angle.py:2306: RuntimeWarning: divide by zero encountered in log\n",
            "  n_samples * np.log(2 * np.pi * self.noise_variance_)\n",
            "/usr/local/lib/python3.10/dist-packages/sklearn/linear_model/_least_angle.py:2307: RuntimeWarning: invalid value encountered in divide\n",
            "  + residuals_sum_squares / self.noise_variance_\n",
            "/usr/local/lib/python3.10/dist-packages/sklearn/linear_model/_least_angle.py:2306: RuntimeWarning: divide by zero encountered in log\n",
            "  n_samples * np.log(2 * np.pi * self.noise_variance_)\n",
            "/usr/local/lib/python3.10/dist-packages/sklearn/linear_model/_least_angle.py:2307: RuntimeWarning: invalid value encountered in divide\n",
            "  + residuals_sum_squares / self.noise_variance_\n",
            "/usr/local/lib/python3.10/dist-packages/sklearn/linear_model/_least_angle.py:2306: RuntimeWarning: divide by zero encountered in log\n",
            "  n_samples * np.log(2 * np.pi * self.noise_variance_)\n",
            "/usr/local/lib/python3.10/dist-packages/sklearn/linear_model/_least_angle.py:2307: RuntimeWarning: invalid value encountered in divide\n",
            "  + residuals_sum_squares / self.noise_variance_\n",
            "/usr/local/lib/python3.10/dist-packages/sklearn/linear_model/_least_angle.py:2306: RuntimeWarning: divide by zero encountered in log\n",
            "  n_samples * np.log(2 * np.pi * self.noise_variance_)\n",
            "/usr/local/lib/python3.10/dist-packages/sklearn/linear_model/_least_angle.py:2307: RuntimeWarning: invalid value encountered in divide\n",
            "  + residuals_sum_squares / self.noise_variance_\n",
            "/usr/local/lib/python3.10/dist-packages/sklearn/linear_model/_least_angle.py:2306: RuntimeWarning: divide by zero encountered in log\n",
            "  n_samples * np.log(2 * np.pi * self.noise_variance_)\n",
            "/usr/local/lib/python3.10/dist-packages/sklearn/linear_model/_least_angle.py:2307: RuntimeWarning: invalid value encountered in divide\n",
            "  + residuals_sum_squares / self.noise_variance_\n",
            "/usr/local/lib/python3.10/dist-packages/sklearn/linear_model/_least_angle.py:2306: RuntimeWarning: divide by zero encountered in log\n",
            "  n_samples * np.log(2 * np.pi * self.noise_variance_)\n",
            "/usr/local/lib/python3.10/dist-packages/sklearn/linear_model/_least_angle.py:2307: RuntimeWarning: invalid value encountered in divide\n",
            "  + residuals_sum_squares / self.noise_variance_\n",
            "/usr/local/lib/python3.10/dist-packages/sklearn/linear_model/_least_angle.py:2306: RuntimeWarning: divide by zero encountered in log\n",
            "  n_samples * np.log(2 * np.pi * self.noise_variance_)\n",
            "/usr/local/lib/python3.10/dist-packages/sklearn/linear_model/_least_angle.py:2307: RuntimeWarning: invalid value encountered in divide\n",
            "  + residuals_sum_squares / self.noise_variance_\n",
            "/usr/local/lib/python3.10/dist-packages/sklearn/linear_model/_least_angle.py:2306: RuntimeWarning: divide by zero encountered in log\n",
            "  n_samples * np.log(2 * np.pi * self.noise_variance_)\n",
            "/usr/local/lib/python3.10/dist-packages/sklearn/linear_model/_least_angle.py:2307: RuntimeWarning: invalid value encountered in divide\n",
            "  + residuals_sum_squares / self.noise_variance_\n",
            "/usr/local/lib/python3.10/dist-packages/sklearn/linear_model/_least_angle.py:2306: RuntimeWarning: divide by zero encountered in log\n",
            "  n_samples * np.log(2 * np.pi * self.noise_variance_)\n",
            "/usr/local/lib/python3.10/dist-packages/sklearn/linear_model/_least_angle.py:2307: RuntimeWarning: invalid value encountered in divide\n",
            "  + residuals_sum_squares / self.noise_variance_\n",
            "/usr/local/lib/python3.10/dist-packages/sklearn/linear_model/_least_angle.py:2306: RuntimeWarning: divide by zero encountered in log\n",
            "  n_samples * np.log(2 * np.pi * self.noise_variance_)\n",
            "/usr/local/lib/python3.10/dist-packages/sklearn/linear_model/_least_angle.py:2307: RuntimeWarning: invalid value encountered in divide\n",
            "  + residuals_sum_squares / self.noise_variance_\n",
            "/usr/local/lib/python3.10/dist-packages/sklearn/linear_model/_least_angle.py:2306: RuntimeWarning: divide by zero encountered in log\n",
            "  n_samples * np.log(2 * np.pi * self.noise_variance_)\n",
            "/usr/local/lib/python3.10/dist-packages/sklearn/linear_model/_least_angle.py:2307: RuntimeWarning: invalid value encountered in divide\n",
            "  + residuals_sum_squares / self.noise_variance_\n",
            "/usr/local/lib/python3.10/dist-packages/sklearn/linear_model/_least_angle.py:2306: RuntimeWarning: divide by zero encountered in log\n",
            "  n_samples * np.log(2 * np.pi * self.noise_variance_)\n",
            "/usr/local/lib/python3.10/dist-packages/sklearn/linear_model/_least_angle.py:2307: RuntimeWarning: invalid value encountered in divide\n",
            "  + residuals_sum_squares / self.noise_variance_\n",
            "/usr/local/lib/python3.10/dist-packages/sklearn/linear_model/_least_angle.py:2306: RuntimeWarning: divide by zero encountered in log\n",
            "  n_samples * np.log(2 * np.pi * self.noise_variance_)\n",
            "/usr/local/lib/python3.10/dist-packages/sklearn/linear_model/_least_angle.py:2307: RuntimeWarning: invalid value encountered in divide\n",
            "  + residuals_sum_squares / self.noise_variance_\n",
            "/usr/local/lib/python3.10/dist-packages/sklearn/linear_model/_least_angle.py:2306: RuntimeWarning: divide by zero encountered in log\n",
            "  n_samples * np.log(2 * np.pi * self.noise_variance_)\n",
            "/usr/local/lib/python3.10/dist-packages/sklearn/linear_model/_least_angle.py:2307: RuntimeWarning: invalid value encountered in divide\n",
            "  + residuals_sum_squares / self.noise_variance_\n",
            "/usr/local/lib/python3.10/dist-packages/sklearn/linear_model/_least_angle.py:2306: RuntimeWarning: divide by zero encountered in log\n",
            "  n_samples * np.log(2 * np.pi * self.noise_variance_)\n",
            "/usr/local/lib/python3.10/dist-packages/sklearn/linear_model/_least_angle.py:2307: RuntimeWarning: invalid value encountered in divide\n",
            "  + residuals_sum_squares / self.noise_variance_\n",
            "/usr/local/lib/python3.10/dist-packages/sklearn/linear_model/_least_angle.py:2306: RuntimeWarning: divide by zero encountered in log\n",
            "  n_samples * np.log(2 * np.pi * self.noise_variance_)\n",
            "/usr/local/lib/python3.10/dist-packages/sklearn/linear_model/_least_angle.py:2307: RuntimeWarning: invalid value encountered in divide\n",
            "  + residuals_sum_squares / self.noise_variance_\n",
            "/usr/local/lib/python3.10/dist-packages/sklearn/linear_model/_least_angle.py:2306: RuntimeWarning: divide by zero encountered in log\n",
            "  n_samples * np.log(2 * np.pi * self.noise_variance_)\n",
            "/usr/local/lib/python3.10/dist-packages/sklearn/linear_model/_least_angle.py:2307: RuntimeWarning: invalid value encountered in divide\n",
            "  + residuals_sum_squares / self.noise_variance_\n",
            "/usr/local/lib/python3.10/dist-packages/sklearn/linear_model/_least_angle.py:2306: RuntimeWarning: divide by zero encountered in log\n",
            "  n_samples * np.log(2 * np.pi * self.noise_variance_)\n",
            "/usr/local/lib/python3.10/dist-packages/sklearn/linear_model/_least_angle.py:2307: RuntimeWarning: invalid value encountered in divide\n",
            "  + residuals_sum_squares / self.noise_variance_\n",
            "/usr/local/lib/python3.10/dist-packages/sklearn/linear_model/_least_angle.py:2306: RuntimeWarning: divide by zero encountered in log\n",
            "  n_samples * np.log(2 * np.pi * self.noise_variance_)\n",
            "/usr/local/lib/python3.10/dist-packages/sklearn/linear_model/_least_angle.py:2307: RuntimeWarning: invalid value encountered in divide\n",
            "  + residuals_sum_squares / self.noise_variance_\n",
            "/usr/local/lib/python3.10/dist-packages/sklearn/linear_model/_least_angle.py:2306: RuntimeWarning: divide by zero encountered in log\n",
            "  n_samples * np.log(2 * np.pi * self.noise_variance_)\n",
            "/usr/local/lib/python3.10/dist-packages/sklearn/linear_model/_least_angle.py:2307: RuntimeWarning: invalid value encountered in divide\n",
            "  + residuals_sum_squares / self.noise_variance_\n",
            "/usr/local/lib/python3.10/dist-packages/sklearn/linear_model/_least_angle.py:2306: RuntimeWarning: divide by zero encountered in log\n",
            "  n_samples * np.log(2 * np.pi * self.noise_variance_)\n",
            "/usr/local/lib/python3.10/dist-packages/sklearn/linear_model/_least_angle.py:2307: RuntimeWarning: invalid value encountered in divide\n",
            "  + residuals_sum_squares / self.noise_variance_\n",
            "/usr/local/lib/python3.10/dist-packages/sklearn/linear_model/_least_angle.py:2306: RuntimeWarning: divide by zero encountered in log\n",
            "  n_samples * np.log(2 * np.pi * self.noise_variance_)\n",
            "/usr/local/lib/python3.10/dist-packages/sklearn/linear_model/_least_angle.py:2307: RuntimeWarning: invalid value encountered in divide\n",
            "  + residuals_sum_squares / self.noise_variance_\n",
            "/usr/local/lib/python3.10/dist-packages/sklearn/linear_model/_least_angle.py:2306: RuntimeWarning: divide by zero encountered in log\n",
            "  n_samples * np.log(2 * np.pi * self.noise_variance_)\n",
            "/usr/local/lib/python3.10/dist-packages/sklearn/linear_model/_least_angle.py:2307: RuntimeWarning: invalid value encountered in divide\n",
            "  + residuals_sum_squares / self.noise_variance_\n",
            "/usr/local/lib/python3.10/dist-packages/sklearn/linear_model/_least_angle.py:2306: RuntimeWarning: divide by zero encountered in log\n",
            "  n_samples * np.log(2 * np.pi * self.noise_variance_)\n",
            "/usr/local/lib/python3.10/dist-packages/sklearn/linear_model/_least_angle.py:2307: RuntimeWarning: invalid value encountered in divide\n",
            "  + residuals_sum_squares / self.noise_variance_\n",
            "/usr/local/lib/python3.10/dist-packages/sklearn/linear_model/_least_angle.py:2306: RuntimeWarning: divide by zero encountered in log\n",
            "  n_samples * np.log(2 * np.pi * self.noise_variance_)\n",
            "/usr/local/lib/python3.10/dist-packages/sklearn/linear_model/_least_angle.py:2307: RuntimeWarning: invalid value encountered in divide\n",
            "  + residuals_sum_squares / self.noise_variance_\n",
            "/usr/local/lib/python3.10/dist-packages/sklearn/linear_model/_least_angle.py:2306: RuntimeWarning: divide by zero encountered in log\n",
            "  n_samples * np.log(2 * np.pi * self.noise_variance_)\n",
            "/usr/local/lib/python3.10/dist-packages/sklearn/linear_model/_least_angle.py:2307: RuntimeWarning: invalid value encountered in divide\n",
            "  + residuals_sum_squares / self.noise_variance_\n",
            "/usr/local/lib/python3.10/dist-packages/sklearn/linear_model/_least_angle.py:2306: RuntimeWarning: divide by zero encountered in log\n",
            "  n_samples * np.log(2 * np.pi * self.noise_variance_)\n",
            "/usr/local/lib/python3.10/dist-packages/sklearn/linear_model/_least_angle.py:2307: RuntimeWarning: invalid value encountered in divide\n",
            "  + residuals_sum_squares / self.noise_variance_\n",
            "/usr/local/lib/python3.10/dist-packages/sklearn/linear_model/_least_angle.py:2306: RuntimeWarning: divide by zero encountered in log\n",
            "  n_samples * np.log(2 * np.pi * self.noise_variance_)\n",
            "/usr/local/lib/python3.10/dist-packages/sklearn/linear_model/_least_angle.py:2307: RuntimeWarning: invalid value encountered in divide\n",
            "  + residuals_sum_squares / self.noise_variance_\n",
            "/usr/local/lib/python3.10/dist-packages/sklearn/linear_model/_least_angle.py:2306: RuntimeWarning: divide by zero encountered in log\n",
            "  n_samples * np.log(2 * np.pi * self.noise_variance_)\n",
            "/usr/local/lib/python3.10/dist-packages/sklearn/linear_model/_least_angle.py:2307: RuntimeWarning: invalid value encountered in divide\n",
            "  + residuals_sum_squares / self.noise_variance_\n",
            "/usr/local/lib/python3.10/dist-packages/sklearn/linear_model/_least_angle.py:2306: RuntimeWarning: divide by zero encountered in log\n",
            "  n_samples * np.log(2 * np.pi * self.noise_variance_)\n",
            "/usr/local/lib/python3.10/dist-packages/sklearn/linear_model/_least_angle.py:2307: RuntimeWarning: invalid value encountered in divide\n",
            "  + residuals_sum_squares / self.noise_variance_\n",
            "/usr/local/lib/python3.10/dist-packages/sklearn/linear_model/_least_angle.py:2306: RuntimeWarning: divide by zero encountered in log\n",
            "  n_samples * np.log(2 * np.pi * self.noise_variance_)\n",
            "/usr/local/lib/python3.10/dist-packages/sklearn/linear_model/_least_angle.py:2307: RuntimeWarning: invalid value encountered in divide\n",
            "  + residuals_sum_squares / self.noise_variance_\n",
            "/usr/local/lib/python3.10/dist-packages/sklearn/linear_model/_least_angle.py:2306: RuntimeWarning: divide by zero encountered in log\n",
            "  n_samples * np.log(2 * np.pi * self.noise_variance_)\n",
            "/usr/local/lib/python3.10/dist-packages/sklearn/linear_model/_least_angle.py:2307: RuntimeWarning: invalid value encountered in divide\n",
            "  + residuals_sum_squares / self.noise_variance_\n",
            "/usr/local/lib/python3.10/dist-packages/sklearn/linear_model/_least_angle.py:2306: RuntimeWarning: divide by zero encountered in log\n",
            "  n_samples * np.log(2 * np.pi * self.noise_variance_)\n",
            "/usr/local/lib/python3.10/dist-packages/sklearn/linear_model/_least_angle.py:2307: RuntimeWarning: invalid value encountered in divide\n",
            "  + residuals_sum_squares / self.noise_variance_\n",
            "/usr/local/lib/python3.10/dist-packages/sklearn/linear_model/_least_angle.py:2306: RuntimeWarning: divide by zero encountered in log\n",
            "  n_samples * np.log(2 * np.pi * self.noise_variance_)\n",
            "/usr/local/lib/python3.10/dist-packages/sklearn/linear_model/_least_angle.py:2307: RuntimeWarning: invalid value encountered in divide\n",
            "  + residuals_sum_squares / self.noise_variance_\n",
            "/usr/local/lib/python3.10/dist-packages/sklearn/linear_model/_least_angle.py:2306: RuntimeWarning: divide by zero encountered in log\n",
            "  n_samples * np.log(2 * np.pi * self.noise_variance_)\n",
            "/usr/local/lib/python3.10/dist-packages/sklearn/linear_model/_least_angle.py:2307: RuntimeWarning: invalid value encountered in divide\n",
            "  + residuals_sum_squares / self.noise_variance_\n",
            "/usr/local/lib/python3.10/dist-packages/sklearn/linear_model/_least_angle.py:2306: RuntimeWarning: divide by zero encountered in log\n",
            "  n_samples * np.log(2 * np.pi * self.noise_variance_)\n",
            "/usr/local/lib/python3.10/dist-packages/sklearn/linear_model/_least_angle.py:2307: RuntimeWarning: invalid value encountered in divide\n",
            "  + residuals_sum_squares / self.noise_variance_\n",
            "/usr/local/lib/python3.10/dist-packages/sklearn/linear_model/_least_angle.py:2306: RuntimeWarning: divide by zero encountered in log\n",
            "  n_samples * np.log(2 * np.pi * self.noise_variance_)\n",
            "/usr/local/lib/python3.10/dist-packages/sklearn/linear_model/_least_angle.py:2307: RuntimeWarning: invalid value encountered in divide\n",
            "  + residuals_sum_squares / self.noise_variance_\n",
            "/usr/local/lib/python3.10/dist-packages/sklearn/linear_model/_least_angle.py:2306: RuntimeWarning: divide by zero encountered in log\n",
            "  n_samples * np.log(2 * np.pi * self.noise_variance_)\n",
            "/usr/local/lib/python3.10/dist-packages/sklearn/linear_model/_least_angle.py:2307: RuntimeWarning: invalid value encountered in divide\n",
            "  + residuals_sum_squares / self.noise_variance_\n",
            "/usr/local/lib/python3.10/dist-packages/sklearn/linear_model/_least_angle.py:2306: RuntimeWarning: divide by zero encountered in log\n",
            "  n_samples * np.log(2 * np.pi * self.noise_variance_)\n",
            "/usr/local/lib/python3.10/dist-packages/sklearn/linear_model/_least_angle.py:2307: RuntimeWarning: invalid value encountered in divide\n",
            "  + residuals_sum_squares / self.noise_variance_\n",
            "/usr/local/lib/python3.10/dist-packages/sklearn/linear_model/_least_angle.py:2306: RuntimeWarning: divide by zero encountered in log\n",
            "  n_samples * np.log(2 * np.pi * self.noise_variance_)\n",
            "/usr/local/lib/python3.10/dist-packages/sklearn/linear_model/_least_angle.py:2307: RuntimeWarning: invalid value encountered in divide\n",
            "  + residuals_sum_squares / self.noise_variance_\n",
            "/usr/local/lib/python3.10/dist-packages/sklearn/linear_model/_least_angle.py:2306: RuntimeWarning: divide by zero encountered in log\n",
            "  n_samples * np.log(2 * np.pi * self.noise_variance_)\n",
            "/usr/local/lib/python3.10/dist-packages/sklearn/linear_model/_least_angle.py:2307: RuntimeWarning: invalid value encountered in divide\n",
            "  + residuals_sum_squares / self.noise_variance_\n",
            "/usr/local/lib/python3.10/dist-packages/sklearn/linear_model/_least_angle.py:2306: RuntimeWarning: divide by zero encountered in log\n",
            "  n_samples * np.log(2 * np.pi * self.noise_variance_)\n",
            "/usr/local/lib/python3.10/dist-packages/sklearn/linear_model/_least_angle.py:2307: RuntimeWarning: invalid value encountered in divide\n",
            "  + residuals_sum_squares / self.noise_variance_\n",
            "/usr/local/lib/python3.10/dist-packages/sklearn/linear_model/_least_angle.py:2306: RuntimeWarning: divide by zero encountered in log\n",
            "  n_samples * np.log(2 * np.pi * self.noise_variance_)\n",
            "/usr/local/lib/python3.10/dist-packages/sklearn/linear_model/_least_angle.py:2307: RuntimeWarning: invalid value encountered in divide\n",
            "  + residuals_sum_squares / self.noise_variance_\n",
            "/usr/local/lib/python3.10/dist-packages/sklearn/linear_model/_least_angle.py:2306: RuntimeWarning: divide by zero encountered in log\n",
            "  n_samples * np.log(2 * np.pi * self.noise_variance_)\n",
            "/usr/local/lib/python3.10/dist-packages/sklearn/linear_model/_least_angle.py:2307: RuntimeWarning: invalid value encountered in divide\n",
            "  + residuals_sum_squares / self.noise_variance_\n",
            "/usr/local/lib/python3.10/dist-packages/sklearn/linear_model/_least_angle.py:2306: RuntimeWarning: divide by zero encountered in log\n",
            "  n_samples * np.log(2 * np.pi * self.noise_variance_)\n",
            "/usr/local/lib/python3.10/dist-packages/sklearn/linear_model/_least_angle.py:2307: RuntimeWarning: invalid value encountered in divide\n",
            "  + residuals_sum_squares / self.noise_variance_\n",
            "/usr/local/lib/python3.10/dist-packages/sklearn/linear_model/_least_angle.py:2306: RuntimeWarning: divide by zero encountered in log\n",
            "  n_samples * np.log(2 * np.pi * self.noise_variance_)\n",
            "/usr/local/lib/python3.10/dist-packages/sklearn/linear_model/_least_angle.py:2307: RuntimeWarning: invalid value encountered in divide\n",
            "  + residuals_sum_squares / self.noise_variance_\n",
            "/usr/local/lib/python3.10/dist-packages/sklearn/linear_model/_least_angle.py:2306: RuntimeWarning: divide by zero encountered in log\n",
            "  n_samples * np.log(2 * np.pi * self.noise_variance_)\n",
            "/usr/local/lib/python3.10/dist-packages/sklearn/linear_model/_least_angle.py:2307: RuntimeWarning: invalid value encountered in divide\n",
            "  + residuals_sum_squares / self.noise_variance_\n",
            "/usr/local/lib/python3.10/dist-packages/sklearn/linear_model/_least_angle.py:2306: RuntimeWarning: divide by zero encountered in log\n",
            "  n_samples * np.log(2 * np.pi * self.noise_variance_)\n",
            "/usr/local/lib/python3.10/dist-packages/sklearn/linear_model/_least_angle.py:2307: RuntimeWarning: invalid value encountered in divide\n",
            "  + residuals_sum_squares / self.noise_variance_\n",
            "/usr/local/lib/python3.10/dist-packages/sklearn/linear_model/_least_angle.py:2306: RuntimeWarning: divide by zero encountered in log\n",
            "  n_samples * np.log(2 * np.pi * self.noise_variance_)\n",
            "/usr/local/lib/python3.10/dist-packages/sklearn/linear_model/_least_angle.py:2307: RuntimeWarning: invalid value encountered in divide\n",
            "  + residuals_sum_squares / self.noise_variance_\n",
            "/usr/local/lib/python3.10/dist-packages/sklearn/linear_model/_least_angle.py:2306: RuntimeWarning: divide by zero encountered in log\n",
            "  n_samples * np.log(2 * np.pi * self.noise_variance_)\n",
            "/usr/local/lib/python3.10/dist-packages/sklearn/linear_model/_least_angle.py:2307: RuntimeWarning: invalid value encountered in divide\n",
            "  + residuals_sum_squares / self.noise_variance_\n",
            "/usr/local/lib/python3.10/dist-packages/sklearn/linear_model/_least_angle.py:2306: RuntimeWarning: divide by zero encountered in log\n",
            "  n_samples * np.log(2 * np.pi * self.noise_variance_)\n",
            "/usr/local/lib/python3.10/dist-packages/sklearn/linear_model/_least_angle.py:2307: RuntimeWarning: invalid value encountered in divide\n",
            "  + residuals_sum_squares / self.noise_variance_\n",
            "/usr/local/lib/python3.10/dist-packages/sklearn/linear_model/_least_angle.py:2306: RuntimeWarning: divide by zero encountered in log\n",
            "  n_samples * np.log(2 * np.pi * self.noise_variance_)\n",
            "/usr/local/lib/python3.10/dist-packages/sklearn/linear_model/_least_angle.py:2307: RuntimeWarning: invalid value encountered in divide\n",
            "  + residuals_sum_squares / self.noise_variance_\n",
            "/usr/local/lib/python3.10/dist-packages/sklearn/linear_model/_least_angle.py:2306: RuntimeWarning: divide by zero encountered in log\n",
            "  n_samples * np.log(2 * np.pi * self.noise_variance_)\n",
            "/usr/local/lib/python3.10/dist-packages/sklearn/linear_model/_least_angle.py:2307: RuntimeWarning: invalid value encountered in divide\n",
            "  + residuals_sum_squares / self.noise_variance_\n",
            "/usr/local/lib/python3.10/dist-packages/sklearn/linear_model/_least_angle.py:2306: RuntimeWarning: divide by zero encountered in log\n",
            "  n_samples * np.log(2 * np.pi * self.noise_variance_)\n",
            "/usr/local/lib/python3.10/dist-packages/sklearn/linear_model/_least_angle.py:2307: RuntimeWarning: invalid value encountered in divide\n",
            "  + residuals_sum_squares / self.noise_variance_\n",
            "/usr/local/lib/python3.10/dist-packages/sklearn/linear_model/_least_angle.py:2306: RuntimeWarning: divide by zero encountered in log\n",
            "  n_samples * np.log(2 * np.pi * self.noise_variance_)\n",
            "/usr/local/lib/python3.10/dist-packages/sklearn/linear_model/_least_angle.py:2307: RuntimeWarning: invalid value encountered in divide\n",
            "  + residuals_sum_squares / self.noise_variance_\n",
            "/usr/local/lib/python3.10/dist-packages/sklearn/linear_model/_least_angle.py:2306: RuntimeWarning: divide by zero encountered in log\n",
            "  n_samples * np.log(2 * np.pi * self.noise_variance_)\n",
            "/usr/local/lib/python3.10/dist-packages/sklearn/linear_model/_least_angle.py:2307: RuntimeWarning: invalid value encountered in divide\n",
            "  + residuals_sum_squares / self.noise_variance_\n",
            "/usr/local/lib/python3.10/dist-packages/sklearn/linear_model/_least_angle.py:2306: RuntimeWarning: divide by zero encountered in log\n",
            "  n_samples * np.log(2 * np.pi * self.noise_variance_)\n",
            "/usr/local/lib/python3.10/dist-packages/sklearn/linear_model/_least_angle.py:2307: RuntimeWarning: invalid value encountered in divide\n",
            "  + residuals_sum_squares / self.noise_variance_\n",
            "/usr/local/lib/python3.10/dist-packages/sklearn/linear_model/_least_angle.py:2306: RuntimeWarning: divide by zero encountered in log\n",
            "  n_samples * np.log(2 * np.pi * self.noise_variance_)\n",
            "/usr/local/lib/python3.10/dist-packages/sklearn/linear_model/_least_angle.py:2307: RuntimeWarning: invalid value encountered in divide\n",
            "  + residuals_sum_squares / self.noise_variance_\n",
            "/usr/local/lib/python3.10/dist-packages/sklearn/linear_model/_least_angle.py:2306: RuntimeWarning: divide by zero encountered in log\n",
            "  n_samples * np.log(2 * np.pi * self.noise_variance_)\n",
            "/usr/local/lib/python3.10/dist-packages/sklearn/linear_model/_least_angle.py:2307: RuntimeWarning: invalid value encountered in divide\n",
            "  + residuals_sum_squares / self.noise_variance_\n",
            "/usr/local/lib/python3.10/dist-packages/sklearn/linear_model/_least_angle.py:2306: RuntimeWarning: divide by zero encountered in log\n",
            "  n_samples * np.log(2 * np.pi * self.noise_variance_)\n",
            "/usr/local/lib/python3.10/dist-packages/sklearn/linear_model/_least_angle.py:2307: RuntimeWarning: invalid value encountered in divide\n",
            "  + residuals_sum_squares / self.noise_variance_\n",
            "/usr/local/lib/python3.10/dist-packages/sklearn/linear_model/_least_angle.py:2306: RuntimeWarning: divide by zero encountered in log\n",
            "  n_samples * np.log(2 * np.pi * self.noise_variance_)\n",
            "/usr/local/lib/python3.10/dist-packages/sklearn/linear_model/_least_angle.py:2307: RuntimeWarning: invalid value encountered in divide\n",
            "  + residuals_sum_squares / self.noise_variance_\n",
            "/usr/local/lib/python3.10/dist-packages/sklearn/linear_model/_least_angle.py:2306: RuntimeWarning: divide by zero encountered in log\n",
            "  n_samples * np.log(2 * np.pi * self.noise_variance_)\n",
            "/usr/local/lib/python3.10/dist-packages/sklearn/linear_model/_least_angle.py:2307: RuntimeWarning: invalid value encountered in divide\n",
            "  + residuals_sum_squares / self.noise_variance_\n",
            "/usr/local/lib/python3.10/dist-packages/sklearn/linear_model/_least_angle.py:2306: RuntimeWarning: divide by zero encountered in log\n",
            "  n_samples * np.log(2 * np.pi * self.noise_variance_)\n",
            "/usr/local/lib/python3.10/dist-packages/sklearn/linear_model/_least_angle.py:2307: RuntimeWarning: invalid value encountered in divide\n",
            "  + residuals_sum_squares / self.noise_variance_\n"
          ]
        }
      ]
    },
    {
      "cell_type": "markdown",
      "source": [
        "Identity,Separability,Similarity,Stability"
      ],
      "metadata": {
        "id": "kUe__lQVsHnV"
      }
    },
    {
      "cell_type": "code",
      "source": [
        "# Identity\n",
        "import numpy as np\n",
        "# Identity: Compare explanations with actual model behavior (e.g., model predictions)\n",
        "def compute_identity_accuracy(explanations, model_predictions):\n",
        "    # Compute accuracy by comparing explanations with model predictions\n",
        "    correct = 0\n",
        "    total = len(model_predictions)\n",
        "    for i in range(total):\n",
        "        if np.array_equal(np.argmax(explanations[i]), np.argmax(model_predictions[i])):\n",
        "            correct += 1\n",
        "    return correct / total\n",
        "\n",
        "# Compute identity accuracy\n",
        "identity_accuracy = compute_identity_accuracy(shap_values, svm_classifier.predict(X_test))\n",
        "print(\"Identity Accuracy:\", identity_accuracy)\n"
      ],
      "metadata": {
        "id": "A3Z1ArgIsHSl",
        "colab": {
          "base_uri": "https://localhost:8080/"
        },
        "outputId": "7ed60e25-087c-444c-87e8-4e1169e76403"
      },
      "execution_count": 38,
      "outputs": [
        {
          "output_type": "stream",
          "name": "stdout",
          "text": [
            "Identity Accuracy: 0.6774193548387096\n"
          ]
        }
      ]
    },
    {
      "cell_type": "code",
      "source": [
        "def compute_separability(explanations, model_predictions):\n",
        "    # Compute separability by comparing explanations for different classes\n",
        "    unique_explanations = set()\n",
        "    for i in range(len(model_predictions)):\n",
        "        unique_explanations.add((model_predictions[i], tuple(explanations[i])))\n",
        "    return len(unique_explanations) / len(model_predictions)\n",
        "# Separability\n",
        "separability_score = compute_separability(shap_values, svm_classifier.predict(X_test))\n",
        "print(\"Separability Score:\", separability_score)"
      ],
      "metadata": {
        "id": "_d8tAS4PuA3N",
        "colab": {
          "base_uri": "https://localhost:8080/"
        },
        "outputId": "19be67df-dcaf-4b3b-9eb7-857e5ee6d8a6"
      },
      "execution_count": 27,
      "outputs": [
        {
          "output_type": "stream",
          "name": "stdout",
          "text": [
            "Separability Score: 0.26392961876832843\n"
          ]
        }
      ]
    },
    {
      "cell_type": "code",
      "source": [
        "from sklearn.metrics.pairwise import cosine_similarity\n",
        "\n",
        "# Similarity: Measure consistency of explanations for similar instances\n",
        "def compute_similarity(explanations, similar_instances):\n",
        "    # Compute similarity between explanations for similar instances\n",
        "    similarity_scores = []\n",
        "    for instance in similar_instances:\n",
        "        # Ensure explanations is a 2D array\n",
        "        if len(explanations.shape) == 1:\n",
        "            explanations = explanations.reshape(1, -1)  # Reshape to 2D array\n",
        "        # Compute cosine similarity between explanations\n",
        "        similarity_score = cosine_similarity(explanations[instance].reshape(1, -1), explanations[instance+1].reshape(1, -1))\n",
        "        similarity_scores.append(similarity_score)\n",
        "    return np.mean(similarity_scores)\n",
        "\n",
        "# Define similar_instances (assuming it is defined)\n",
        "similar_instances = [12, 1]\n",
        "\n",
        "# Call compute_similarity function\n",
        "similarity_score = compute_similarity(shap_values, similar_instances)\n",
        "\n",
        "# Print the result\n",
        "print(\"Similarity Score:\", similarity_score)\n"
      ],
      "metadata": {
        "id": "ouxREhWdvxkj",
        "colab": {
          "base_uri": "https://localhost:8080/"
        },
        "outputId": "43fa865d-b228-4328-db69-938d70aef84c"
      },
      "execution_count": 42,
      "outputs": [
        {
          "output_type": "stream",
          "name": "stdout",
          "text": [
            "Similarity Score: 0.0\n"
          ]
        }
      ]
    }
  ]
}
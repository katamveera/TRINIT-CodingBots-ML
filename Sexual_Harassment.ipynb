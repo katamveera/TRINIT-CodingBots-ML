{
  "nbformat": 4,
  "nbformat_minor": 0,
  "metadata": {
    "colab": {
      "provenance": [],
      "authorship_tag": "ABX9TyPrMOTXNbQyJSIo3Y0U86dy",
      "include_colab_link": true
    },
    "kernelspec": {
      "name": "python3",
      "display_name": "Python 3"
    },
    "language_info": {
      "name": "python"
    }
  },
  "cells": [
    {
      "cell_type": "markdown",
      "metadata": {
        "id": "view-in-github",
        "colab_type": "text"
      },
      "source": [
        "<a href=\"https://colab.research.google.com/github/katamveera/TRINIT-CodingBots-ML/blob/main/Sexual_Harassment.ipynb\" target=\"_parent\"><img src=\"https://colab.research.google.com/assets/colab-badge.svg\" alt=\"Open In Colab\"/></a>"
      ]
    },
    {
      "cell_type": "code",
      "source": [
        "import re\n",
        "\n",
        "def categorize_sexual_harassment(text):\n",
        "    # Basic rule-based categorization\n",
        "    if re.search(r'\\b(?:harass(?:ment|ed|ing)?|assault)\\b', text, re.IGNORECASE):\n",
        "        return \"Potential Sexual Harassment\"\n",
        "    else:\n",
        "        return \"Not Classified\"\n",
        "\n",
        "def explain_categorization(category):\n",
        "    # Basic explanations for categorizations\n",
        "    if category == \"Potential Sexual Harassment\":\n",
        "        return \"The text contains words associated with harassment or assault.\"\n",
        "    elif category == \"Not Classified\":\n",
        "        return \"No evidence of potential sexual harassment found in the text.\"\n",
        "    else:\n",
        "        return \"Unclassifiable\"\n",
        "\n",
        "# Example text\n",
        "sample_text = \"I experienced harassment at work, and it made me uncomfortable.\"\n",
        "\n",
        "# Categorize and explain\n",
        "category_result = categorize_sexual_harassment(sample_text)\n",
        "explanation_result = explain_categorization(category_result)\n",
        "\n",
        "# Display results\n",
        "print(\"Categorization:\", category_result)\n",
        "print(\"Explanation:\", explanation_result)"
      ],
      "metadata": {
        "colab": {
          "base_uri": "https://localhost:8080/"
        },
        "id": "_1zRU8fhR7Re",
        "outputId": "aa394888-1d9c-4505-888a-4a2b6b4eded9"
      },
      "execution_count": 25,
      "outputs": [
        {
          "output_type": "stream",
          "name": "stdout",
          "text": [
            "Categorization: Potential Sexual Harassment\n",
            "Explanation: The text contains words associated with harassment or assault.\n"
          ]
        }
      ]
    }
  ]
}